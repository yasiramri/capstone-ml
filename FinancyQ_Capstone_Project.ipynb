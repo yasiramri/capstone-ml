{
  "nbformat": 4,
  "nbformat_minor": 0,
  "metadata": {
    "colab": {
      "provenance": [],
      "gpuType": "T4"
    },
    "kernelspec": {
      "name": "python3",
      "display_name": "Python 3"
    },
    "language_info": {
      "name": "python"
    },
    "accelerator": "GPU"
  },
  "cells": [
    {
      "cell_type": "code",
      "source": [
        "!pip install roboflow"
      ],
      "metadata": {
        "id": "l4Q3BZGp_fmu",
        "colab": {
          "base_uri": "https://localhost:8080/",
          "height": 1000
        },
        "collapsed": true,
        "outputId": "6b109c80-2a19-4bd7-9110-d81af3f438d7"
      },
      "execution_count": null,
      "outputs": [
        {
          "output_type": "stream",
          "name": "stdout",
          "text": [
            "Collecting roboflow\n",
            "  Downloading roboflow-1.1.30-py3-none-any.whl (75 kB)\n",
            "\u001b[2K     \u001b[90m━━━━━━━━━━━━━━━━━━━━━━━━━━━━━━━━━━━━━━━━\u001b[0m \u001b[32m75.5/75.5 kB\u001b[0m \u001b[31m969.1 kB/s\u001b[0m eta \u001b[36m0:00:00\u001b[0m\n",
            "\u001b[?25hCollecting certifi==2023.7.22 (from roboflow)\n",
            "  Downloading certifi-2023.7.22-py3-none-any.whl (158 kB)\n",
            "\u001b[2K     \u001b[90m━━━━━━━━━━━━━━━━━━━━━━━━━━━━━━━━━━━━━━━━\u001b[0m \u001b[32m158.3/158.3 kB\u001b[0m \u001b[31m3.2 MB/s\u001b[0m eta \u001b[36m0:00:00\u001b[0m\n",
            "\u001b[?25hCollecting chardet==4.0.0 (from roboflow)\n",
            "  Downloading chardet-4.0.0-py2.py3-none-any.whl (178 kB)\n",
            "\u001b[2K     \u001b[90m━━━━━━━━━━━━━━━━━━━━━━━━━━━━━━━━━━━━━━━━\u001b[0m \u001b[32m178.7/178.7 kB\u001b[0m \u001b[31m12.5 MB/s\u001b[0m eta \u001b[36m0:00:00\u001b[0m\n",
            "\u001b[?25hCollecting cycler==0.10.0 (from roboflow)\n",
            "  Downloading cycler-0.10.0-py2.py3-none-any.whl (6.5 kB)\n",
            "Collecting idna==2.10 (from roboflow)\n",
            "  Downloading idna-2.10-py2.py3-none-any.whl (58 kB)\n",
            "\u001b[2K     \u001b[90m━━━━━━━━━━━━━━━━━━━━━━━━━━━━━━━━━━━━━━━━\u001b[0m \u001b[32m58.8/58.8 kB\u001b[0m \u001b[31m8.9 MB/s\u001b[0m eta \u001b[36m0:00:00\u001b[0m\n",
            "\u001b[?25hRequirement already satisfied: kiwisolver>=1.3.1 in /usr/local/lib/python3.10/dist-packages (from roboflow) (1.4.5)\n",
            "Requirement already satisfied: matplotlib in /usr/local/lib/python3.10/dist-packages (from roboflow) (3.7.1)\n",
            "Requirement already satisfied: numpy>=1.18.5 in /usr/local/lib/python3.10/dist-packages (from roboflow) (1.25.2)\n",
            "Collecting opencv-python-headless==4.8.0.74 (from roboflow)\n",
            "  Downloading opencv_python_headless-4.8.0.74-cp37-abi3-manylinux_2_17_x86_64.manylinux2014_x86_64.whl (49.1 MB)\n",
            "\u001b[2K     \u001b[90m━━━━━━━━━━━━━━━━━━━━━━━━━━━━━━━━━━━━━━━━\u001b[0m \u001b[32m49.1/49.1 MB\u001b[0m \u001b[31m11.9 MB/s\u001b[0m eta \u001b[36m0:00:00\u001b[0m\n",
            "\u001b[?25hRequirement already satisfied: Pillow>=7.1.2 in /usr/local/lib/python3.10/dist-packages (from roboflow) (9.4.0)\n",
            "Requirement already satisfied: python-dateutil in /usr/local/lib/python3.10/dist-packages (from roboflow) (2.8.2)\n",
            "Collecting python-dotenv (from roboflow)\n",
            "  Downloading python_dotenv-1.0.1-py3-none-any.whl (19 kB)\n",
            "Requirement already satisfied: requests in /usr/local/lib/python3.10/dist-packages (from roboflow) (2.31.0)\n",
            "Requirement already satisfied: six in /usr/local/lib/python3.10/dist-packages (from roboflow) (1.16.0)\n",
            "Requirement already satisfied: urllib3>=1.26.6 in /usr/local/lib/python3.10/dist-packages (from roboflow) (2.0.7)\n",
            "Requirement already satisfied: tqdm>=4.41.0 in /usr/local/lib/python3.10/dist-packages (from roboflow) (4.66.4)\n",
            "Requirement already satisfied: PyYAML>=5.3.1 in /usr/local/lib/python3.10/dist-packages (from roboflow) (6.0.1)\n",
            "Collecting requests-toolbelt (from roboflow)\n",
            "  Downloading requests_toolbelt-1.0.0-py2.py3-none-any.whl (54 kB)\n",
            "\u001b[2K     \u001b[90m━━━━━━━━━━━━━━━━━━━━━━━━━━━━━━━━━━━━━━━━\u001b[0m \u001b[32m54.5/54.5 kB\u001b[0m \u001b[31m7.6 MB/s\u001b[0m eta \u001b[36m0:00:00\u001b[0m\n",
            "\u001b[?25hCollecting python-magic (from roboflow)\n",
            "  Downloading python_magic-0.4.27-py2.py3-none-any.whl (13 kB)\n",
            "Requirement already satisfied: contourpy>=1.0.1 in /usr/local/lib/python3.10/dist-packages (from matplotlib->roboflow) (1.2.1)\n",
            "Requirement already satisfied: fonttools>=4.22.0 in /usr/local/lib/python3.10/dist-packages (from matplotlib->roboflow) (4.51.0)\n",
            "Requirement already satisfied: packaging>=20.0 in /usr/local/lib/python3.10/dist-packages (from matplotlib->roboflow) (24.0)\n",
            "Requirement already satisfied: pyparsing>=2.3.1 in /usr/local/lib/python3.10/dist-packages (from matplotlib->roboflow) (3.1.2)\n",
            "Requirement already satisfied: charset-normalizer<4,>=2 in /usr/local/lib/python3.10/dist-packages (from requests->roboflow) (3.3.2)\n",
            "Installing collected packages: python-magic, python-dotenv, opencv-python-headless, idna, cycler, chardet, certifi, requests-toolbelt, roboflow\n",
            "  Attempting uninstall: opencv-python-headless\n",
            "    Found existing installation: opencv-python-headless 4.9.0.80\n",
            "    Uninstalling opencv-python-headless-4.9.0.80:\n",
            "      Successfully uninstalled opencv-python-headless-4.9.0.80\n",
            "  Attempting uninstall: idna\n",
            "    Found existing installation: idna 3.7\n",
            "    Uninstalling idna-3.7:\n",
            "      Successfully uninstalled idna-3.7\n",
            "  Attempting uninstall: cycler\n",
            "    Found existing installation: cycler 0.12.1\n",
            "    Uninstalling cycler-0.12.1:\n",
            "      Successfully uninstalled cycler-0.12.1\n",
            "  Attempting uninstall: chardet\n",
            "    Found existing installation: chardet 5.2.0\n",
            "    Uninstalling chardet-5.2.0:\n",
            "      Successfully uninstalled chardet-5.2.0\n",
            "  Attempting uninstall: certifi\n",
            "    Found existing installation: certifi 2024.2.2\n",
            "    Uninstalling certifi-2024.2.2:\n",
            "      Successfully uninstalled certifi-2024.2.2\n",
            "Successfully installed certifi-2023.7.22 chardet-4.0.0 cycler-0.10.0 idna-2.10 opencv-python-headless-4.8.0.74 python-dotenv-1.0.1 python-magic-0.4.27 requests-toolbelt-1.0.0 roboflow-1.1.30\n"
          ]
        },
        {
          "output_type": "display_data",
          "data": {
            "application/vnd.colab-display-data+json": {
              "pip_warning": {
                "packages": [
                  "certifi",
                  "cycler"
                ]
              },
              "id": "bd680671b3334e949bd213f6526b135f"
            }
          },
          "metadata": {}
        }
      ]
    },
    {
      "cell_type": "code",
      "source": [
        "!pip install easyocr"
      ],
      "metadata": {
        "colab": {
          "base_uri": "https://localhost:8080/"
        },
        "collapsed": true,
        "id": "BoJ5ElCy-7We",
        "outputId": "315a679b-aa95-4114-fcd2-e7286aee0675"
      },
      "execution_count": null,
      "outputs": [
        {
          "output_type": "stream",
          "name": "stdout",
          "text": [
            "Collecting easyocr\n",
            "  Downloading easyocr-1.7.1-py3-none-any.whl (2.9 MB)\n",
            "\u001b[2K     \u001b[90m━━━━━━━━━━━━━━━━━━━━━━━━━━━━━━━━━━━━━━━━\u001b[0m \u001b[32m2.9/2.9 MB\u001b[0m \u001b[31m11.8 MB/s\u001b[0m eta \u001b[36m0:00:00\u001b[0m\n",
            "\u001b[?25hRequirement already satisfied: torch in /usr/local/lib/python3.10/dist-packages (from easyocr) (2.3.0+cu121)\n",
            "Requirement already satisfied: torchvision>=0.5 in /usr/local/lib/python3.10/dist-packages (from easyocr) (0.18.0+cu121)\n",
            "Requirement already satisfied: opencv-python-headless in /usr/local/lib/python3.10/dist-packages (from easyocr) (4.8.0.74)\n",
            "Requirement already satisfied: scipy in /usr/local/lib/python3.10/dist-packages (from easyocr) (1.11.4)\n",
            "Requirement already satisfied: numpy in /usr/local/lib/python3.10/dist-packages (from easyocr) (1.25.2)\n",
            "Requirement already satisfied: Pillow in /usr/local/lib/python3.10/dist-packages (from easyocr) (9.4.0)\n",
            "Requirement already satisfied: scikit-image in /usr/local/lib/python3.10/dist-packages (from easyocr) (0.19.3)\n",
            "Collecting python-bidi (from easyocr)\n",
            "  Downloading python_bidi-0.4.2-py2.py3-none-any.whl (30 kB)\n",
            "Requirement already satisfied: PyYAML in /usr/local/lib/python3.10/dist-packages (from easyocr) (6.0.1)\n",
            "Requirement already satisfied: Shapely in /usr/local/lib/python3.10/dist-packages (from easyocr) (2.0.4)\n",
            "Collecting pyclipper (from easyocr)\n",
            "  Downloading pyclipper-1.3.0.post5-cp310-cp310-manylinux_2_12_x86_64.manylinux2010_x86_64.whl (908 kB)\n",
            "\u001b[2K     \u001b[90m━━━━━━━━━━━━━━━━━━━━━━━━━━━━━━━━━━━━━━━━\u001b[0m \u001b[32m908.3/908.3 kB\u001b[0m \u001b[31m62.6 MB/s\u001b[0m eta \u001b[36m0:00:00\u001b[0m\n",
            "\u001b[?25hCollecting ninja (from easyocr)\n",
            "  Downloading ninja-1.11.1.1-py2.py3-none-manylinux1_x86_64.manylinux_2_5_x86_64.whl (307 kB)\n",
            "\u001b[2K     \u001b[90m━━━━━━━━━━━━━━━━━━━━━━━━━━━━━━━━━━━━━━━━\u001b[0m \u001b[32m307.2/307.2 kB\u001b[0m \u001b[31m32.9 MB/s\u001b[0m eta \u001b[36m0:00:00\u001b[0m\n",
            "\u001b[?25hRequirement already satisfied: filelock in /usr/local/lib/python3.10/dist-packages (from torch->easyocr) (3.14.0)\n",
            "Requirement already satisfied: typing-extensions>=4.8.0 in /usr/local/lib/python3.10/dist-packages (from torch->easyocr) (4.11.0)\n",
            "Requirement already satisfied: sympy in /usr/local/lib/python3.10/dist-packages (from torch->easyocr) (1.12)\n",
            "Requirement already satisfied: networkx in /usr/local/lib/python3.10/dist-packages (from torch->easyocr) (3.3)\n",
            "Requirement already satisfied: jinja2 in /usr/local/lib/python3.10/dist-packages (from torch->easyocr) (3.1.4)\n",
            "Requirement already satisfied: fsspec in /usr/local/lib/python3.10/dist-packages (from torch->easyocr) (2023.6.0)\n",
            "Collecting nvidia-cuda-nvrtc-cu12==12.1.105 (from torch->easyocr)\n",
            "  Using cached nvidia_cuda_nvrtc_cu12-12.1.105-py3-none-manylinux1_x86_64.whl (23.7 MB)\n",
            "Collecting nvidia-cuda-runtime-cu12==12.1.105 (from torch->easyocr)\n",
            "  Using cached nvidia_cuda_runtime_cu12-12.1.105-py3-none-manylinux1_x86_64.whl (823 kB)\n",
            "Collecting nvidia-cuda-cupti-cu12==12.1.105 (from torch->easyocr)\n",
            "  Using cached nvidia_cuda_cupti_cu12-12.1.105-py3-none-manylinux1_x86_64.whl (14.1 MB)\n",
            "Collecting nvidia-cudnn-cu12==8.9.2.26 (from torch->easyocr)\n",
            "  Using cached nvidia_cudnn_cu12-8.9.2.26-py3-none-manylinux1_x86_64.whl (731.7 MB)\n",
            "Collecting nvidia-cublas-cu12==12.1.3.1 (from torch->easyocr)\n",
            "  Using cached nvidia_cublas_cu12-12.1.3.1-py3-none-manylinux1_x86_64.whl (410.6 MB)\n",
            "Collecting nvidia-cufft-cu12==11.0.2.54 (from torch->easyocr)\n",
            "  Using cached nvidia_cufft_cu12-11.0.2.54-py3-none-manylinux1_x86_64.whl (121.6 MB)\n",
            "Collecting nvidia-curand-cu12==10.3.2.106 (from torch->easyocr)\n",
            "  Using cached nvidia_curand_cu12-10.3.2.106-py3-none-manylinux1_x86_64.whl (56.5 MB)\n",
            "Collecting nvidia-cusolver-cu12==11.4.5.107 (from torch->easyocr)\n",
            "  Using cached nvidia_cusolver_cu12-11.4.5.107-py3-none-manylinux1_x86_64.whl (124.2 MB)\n",
            "Collecting nvidia-cusparse-cu12==12.1.0.106 (from torch->easyocr)\n",
            "  Using cached nvidia_cusparse_cu12-12.1.0.106-py3-none-manylinux1_x86_64.whl (196.0 MB)\n",
            "Collecting nvidia-nccl-cu12==2.20.5 (from torch->easyocr)\n",
            "  Using cached nvidia_nccl_cu12-2.20.5-py3-none-manylinux2014_x86_64.whl (176.2 MB)\n",
            "Collecting nvidia-nvtx-cu12==12.1.105 (from torch->easyocr)\n",
            "  Using cached nvidia_nvtx_cu12-12.1.105-py3-none-manylinux1_x86_64.whl (99 kB)\n",
            "Requirement already satisfied: triton==2.3.0 in /usr/local/lib/python3.10/dist-packages (from torch->easyocr) (2.3.0)\n",
            "Collecting nvidia-nvjitlink-cu12 (from nvidia-cusolver-cu12==11.4.5.107->torch->easyocr)\n",
            "  Downloading nvidia_nvjitlink_cu12-12.5.40-py3-none-manylinux2014_x86_64.whl (21.3 MB)\n",
            "\u001b[2K     \u001b[90m━━━━━━━━━━━━━━━━━━━━━━━━━━━━━━━━━━━━━━━━\u001b[0m \u001b[32m21.3/21.3 MB\u001b[0m \u001b[31m53.6 MB/s\u001b[0m eta \u001b[36m0:00:00\u001b[0m\n",
            "\u001b[?25hRequirement already satisfied: six in /usr/local/lib/python3.10/dist-packages (from python-bidi->easyocr) (1.16.0)\n",
            "Requirement already satisfied: imageio>=2.4.1 in /usr/local/lib/python3.10/dist-packages (from scikit-image->easyocr) (2.31.6)\n",
            "Requirement already satisfied: tifffile>=2019.7.26 in /usr/local/lib/python3.10/dist-packages (from scikit-image->easyocr) (2024.5.22)\n",
            "Requirement already satisfied: PyWavelets>=1.1.1 in /usr/local/lib/python3.10/dist-packages (from scikit-image->easyocr) (1.6.0)\n",
            "Requirement already satisfied: packaging>=20.0 in /usr/local/lib/python3.10/dist-packages (from scikit-image->easyocr) (24.0)\n",
            "Requirement already satisfied: MarkupSafe>=2.0 in /usr/local/lib/python3.10/dist-packages (from jinja2->torch->easyocr) (2.1.5)\n",
            "Requirement already satisfied: mpmath>=0.19 in /usr/local/lib/python3.10/dist-packages (from sympy->torch->easyocr) (1.3.0)\n",
            "Installing collected packages: pyclipper, ninja, python-bidi, nvidia-nvtx-cu12, nvidia-nvjitlink-cu12, nvidia-nccl-cu12, nvidia-curand-cu12, nvidia-cufft-cu12, nvidia-cuda-runtime-cu12, nvidia-cuda-nvrtc-cu12, nvidia-cuda-cupti-cu12, nvidia-cublas-cu12, nvidia-cusparse-cu12, nvidia-cudnn-cu12, nvidia-cusolver-cu12, easyocr\n",
            "Successfully installed easyocr-1.7.1 ninja-1.11.1.1 nvidia-cublas-cu12-12.1.3.1 nvidia-cuda-cupti-cu12-12.1.105 nvidia-cuda-nvrtc-cu12-12.1.105 nvidia-cuda-runtime-cu12-12.1.105 nvidia-cudnn-cu12-8.9.2.26 nvidia-cufft-cu12-11.0.2.54 nvidia-curand-cu12-10.3.2.106 nvidia-cusolver-cu12-11.4.5.107 nvidia-cusparse-cu12-12.1.0.106 nvidia-nccl-cu12-2.20.5 nvidia-nvjitlink-cu12-12.5.40 nvidia-nvtx-cu12-12.1.105 pyclipper-1.3.0.post5 python-bidi-0.4.2\n"
          ]
        }
      ]
    },
    {
      "cell_type": "code",
      "source": [
        "!pip install pytesseract"
      ],
      "metadata": {
        "colab": {
          "base_uri": "https://localhost:8080/"
        },
        "collapsed": true,
        "id": "47yj3TsW_1U2",
        "outputId": "60ff11ca-7f0f-428c-a732-aa9bc0dec805"
      },
      "execution_count": null,
      "outputs": [
        {
          "output_type": "stream",
          "name": "stdout",
          "text": [
            "Collecting pytesseract\n",
            "  Downloading pytesseract-0.3.10-py3-none-any.whl (14 kB)\n",
            "Requirement already satisfied: packaging>=21.3 in /usr/local/lib/python3.10/dist-packages (from pytesseract) (24.0)\n",
            "Requirement already satisfied: Pillow>=8.0.0 in /usr/local/lib/python3.10/dist-packages (from pytesseract) (9.4.0)\n",
            "Installing collected packages: pytesseract\n",
            "Successfully installed pytesseract-0.3.10\n"
          ]
        }
      ]
    },
    {
      "cell_type": "code",
      "source": [
        "import easyocr\n",
        "import cv2\n",
        "import pytesseract\n",
        "import tensorflow as tf\n",
        "import os\n",
        "import numpy as np\n",
        "from sklearn.preprocessing import LabelEncoder\n",
        "from sklearn.model_selection import train_test_split\n",
        "from tensorflow.keras.preprocessing.image import img_to_array, load_img\n",
        "from tensorflow.keras.utils import to_categorical\n",
        "from tensorflow.keras.models import Sequential\n",
        "from tensorflow.keras.layers import Conv2D, MaxPooling2D, Flatten, Dense\n",
        "from tensorflow.keras.optimizers import Adam\n",
        "from sklearn.metrics import classification_report\n",
        "from PIL import Image"
      ],
      "metadata": {
        "id": "5L-1VboQ-kRA"
      },
      "execution_count": null,
      "outputs": []
    },
    {
      "cell_type": "code",
      "source": [
        "from roboflow import Roboflow\n",
        "rf = Roboflow(api_key=\"f77FoHccQ1RtNOK1tFRo\")\n",
        "project = rf.workspace(\"jakob-awn1e\").project(\"receipt-or-invoice\")\n",
        "version = project.version(2)\n",
        "dataset = version.download(\"folder\")"
      ],
      "metadata": {
        "colab": {
          "base_uri": "https://localhost:8080/"
        },
        "id": "ZCQq1VIz-07k",
        "outputId": "e1ec9adb-9228-492b-8232-fc787df4d963"
      },
      "execution_count": null,
      "outputs": [
        {
          "output_type": "stream",
          "name": "stdout",
          "text": [
            "loading Roboflow workspace...\n",
            "loading Roboflow project...\n"
          ]
        },
        {
          "output_type": "stream",
          "name": "stderr",
          "text": [
            "Downloading Dataset Version Zip in Receipt-or-Invoice-2 to folder:: 100%|██████████| 194763/194763 [00:04<00:00, 46718.19it/s]"
          ]
        },
        {
          "output_type": "stream",
          "name": "stdout",
          "text": [
            "\n"
          ]
        },
        {
          "output_type": "stream",
          "name": "stderr",
          "text": [
            "\n",
            "Extracting Dataset Version Zip to Receipt-or-Invoice-2 in folder:: 100%|██████████| 4325/4325 [00:01<00:00, 4060.46it/s]\n"
          ]
        }
      ]
    },
    {
      "cell_type": "code",
      "source": [
        "# Preprocessing\n",
        "def preprocess_images(image_path):\n",
        "    image = load_img(image_path, target_size=(224, 224))\n",
        "    image = img_to_array(image) / 255.0  # Normalization\n",
        "    return image"
      ],
      "metadata": {
        "id": "BcVZBldXBZku"
      },
      "execution_count": null,
      "outputs": []
    },
    {
      "cell_type": "code",
      "source": [
        "def label_data(data_path):\n",
        "    images = []\n",
        "    labels = []\n",
        "    for root, dirs, files in os.walk(data_path):\n",
        "        for file in files:\n",
        "            if file.endswith('.jpg') or file.endswith('.png'):  # Ensure processing only image files\n",
        "                file_path = os.path.join(root, file)\n",
        "                label = os.path.basename(os.path.dirname(file_path))  # Correct label extraction\n",
        "                image = preprocess_images(file_path)\n",
        "                images.append(image)\n",
        "                labels.append(label)\n",
        "    return np.array(images), np.array(labels)"
      ],
      "metadata": {
        "id": "1MBSZ273BduW"
      },
      "execution_count": null,
      "outputs": []
    },
    {
      "cell_type": "code",
      "source": [
        "# Load dataset\n",
        "train_path = \"/content/Receipt-or-Invoice-2/train\"\n",
        "val_path = \"/content/Receipt-or-Invoice-2/valid\"\n",
        "test_path = \"/content/Receipt-or-Invoice-2/test\""
      ],
      "metadata": {
        "id": "F8Xp8ehqBjnG"
      },
      "execution_count": null,
      "outputs": []
    },
    {
      "cell_type": "code",
      "source": [
        "X_train, y_train = label_data(train_path)\n",
        "X_val, y_val = label_data(val_path)\n",
        "X_test, y_test = label_data(test_path)"
      ],
      "metadata": {
        "id": "Ko527GN2D0fH"
      },
      "execution_count": null,
      "outputs": []
    },
    {
      "cell_type": "code",
      "source": [
        "import numpy as np\n",
        "# Combining labels from all three datasets\n",
        "all_labels = np.concatenate((y_train, y_val, y_test))\n",
        "\n",
        "# Encode labels\n",
        "label_encoder = LabelEncoder()\n",
        "label_encoder.fit(all_labels)\n",
        "\n",
        "# Re-encode labels for each dataset\n",
        "y_train = label_encoder.transform(y_train)\n",
        "y_val = label_encoder.transform(y_val)\n",
        "y_test = label_encoder.transform(y_test)"
      ],
      "metadata": {
        "id": "MH01xUyTD3eE"
      },
      "execution_count": null,
      "outputs": []
    },
    {
      "cell_type": "code",
      "source": [
        "# Build CNN model\n",
        "model = Sequential([\n",
        "    Conv2D(32, (3, 3), activation='relu', input_shape=(224, 224, 3)),\n",
        "    MaxPooling2D((2, 2)),\n",
        "    Conv2D(64, (3, 3), activation='relu'),\n",
        "    MaxPooling2D((2, 2)),\n",
        "    Flatten(),\n",
        "    Dense(64, activation='relu'),\n",
        "    Dense(len(label_encoder.classes_), activation='softmax')\n",
        "])\n",
        "\n",
        "# Compile the model\n",
        "model.compile(optimizer=Adam(), loss='sparse_categorical_crossentropy', metrics=['accuracy'])"
      ],
      "metadata": {
        "id": "wSuY0LcTBm1t"
      },
      "execution_count": null,
      "outputs": []
    },
    {
      "cell_type": "code",
      "source": [
        "# Train the model\n",
        "model.fit(X_train, y_train, validation_data=(X_val, y_val), epochs=10, batch_size=32)\n",
        "\n",
        "# Evaluate the model\n",
        "_, test_acc = model.evaluate(X_test, y_test)\n",
        "print(\"Test Accuracy:\", test_acc)"
      ],
      "metadata": {
        "colab": {
          "base_uri": "https://localhost:8080/"
        },
        "id": "3ugDasEmD9yc",
        "outputId": "92d6d8e4-6e40-4975-ab1b-db5fcd2bbdb7"
      },
      "execution_count": null,
      "outputs": [
        {
          "output_type": "stream",
          "name": "stdout",
          "text": [
            "Epoch 1/10\n",
            "118/118 [==============================] - 13s 60ms/step - loss: 0.8351 - accuracy: 0.7994 - val_loss: 0.3268 - val_accuracy: 0.8528\n",
            "Epoch 2/10\n",
            "118/118 [==============================] - 5s 43ms/step - loss: 0.1771 - accuracy: 0.9308 - val_loss: 0.2239 - val_accuracy: 0.9028\n",
            "Epoch 3/10\n",
            "118/118 [==============================] - 5s 43ms/step - loss: 0.1067 - accuracy: 0.9626 - val_loss: 0.3430 - val_accuracy: 0.8750\n",
            "Epoch 4/10\n",
            "118/118 [==============================] - 6s 50ms/step - loss: 0.0712 - accuracy: 0.9746 - val_loss: 0.2150 - val_accuracy: 0.9306\n",
            "Epoch 5/10\n",
            "118/118 [==============================] - 5s 42ms/step - loss: 0.0466 - accuracy: 0.9822 - val_loss: 0.1966 - val_accuracy: 0.9333\n",
            "Epoch 6/10\n",
            "118/118 [==============================] - 5s 44ms/step - loss: 0.0246 - accuracy: 0.9926 - val_loss: 0.5102 - val_accuracy: 0.8611\n",
            "Epoch 7/10\n",
            "118/118 [==============================] - 5s 46ms/step - loss: 0.0216 - accuracy: 0.9934 - val_loss: 0.2525 - val_accuracy: 0.9278\n",
            "Epoch 8/10\n",
            "118/118 [==============================] - 5s 43ms/step - loss: 0.0185 - accuracy: 0.9939 - val_loss: 0.2669 - val_accuracy: 0.9278\n",
            "Epoch 9/10\n",
            "118/118 [==============================] - 5s 46ms/step - loss: 0.0194 - accuracy: 0.9947 - val_loss: 0.9333 - val_accuracy: 0.8444\n",
            "Epoch 10/10\n",
            "118/118 [==============================] - 5s 42ms/step - loss: 0.0231 - accuracy: 0.9934 - val_loss: 0.4479 - val_accuracy: 0.8944\n",
            "6/6 [==============================] - 0s 82ms/step - loss: 0.5982 - accuracy: 0.8833\n",
            "Test Accuracy: 0.8833333253860474\n"
          ]
        }
      ]
    },
    {
      "cell_type": "code",
      "source": [
        "# Perform text recognition using OCR\n",
        "def perform_ocr(image_path):\n",
        "    reader = easyocr.Reader(['en'])\n",
        "    result = reader.readtext(image_path)\n",
        "    return result"
      ],
      "metadata": {
        "id": "vftdqofFEHKL"
      },
      "execution_count": null,
      "outputs": []
    },
    {
      "cell_type": "code",
      "source": [
        "# Integrate everything\n",
        "def integrate_ocr_with_model(image_path):\n",
        "    # Predict class using the CNN model\n",
        "    image = preprocess_images(image_path)\n",
        "    prediction = np.argmax(model.predict(np.array([image])))\n",
        "\n",
        "    # Perform OCR on the image\n",
        "    ocr_result = perform_ocr(image_path)\n",
        "\n",
        "    return label_encoder.classes_[prediction], ocr_result"
      ],
      "metadata": {
        "id": "NZS-fpDmEE67"
      },
      "execution_count": null,
      "outputs": []
    },
    {
      "cell_type": "code",
      "source": [
        "# Example usage:\n",
        "image_path = \"/content/Receipt.jpg\"\n",
        "predicted_class, ocr_result = integrate_ocr_with_model(image_path)\n",
        "print(\"Predicted Class:\", predicted_class)\n",
        "print(\"OCR Result:\", ocr_result)"
      ],
      "metadata": {
        "id": "utY3KaoxEKU0",
        "colab": {
          "base_uri": "https://localhost:8080/"
        },
        "outputId": "755605c2-fd1e-4339-cb52-8477aea7453c"
      },
      "execution_count": null,
      "outputs": [
        {
          "output_type": "stream",
          "name": "stdout",
          "text": [
            "1/1 [==============================] - 0s 436ms/step\n"
          ]
        },
        {
          "output_type": "stream",
          "name": "stderr",
          "text": [
            "WARNING:easyocr.easyocr:Downloading detection model, please wait. This may take several minutes depending upon your network connection.\n"
          ]
        },
        {
          "output_type": "stream",
          "name": "stdout",
          "text": [
            "Progress: |██████████████████████████████████████████████████| 100.0% Complete"
          ]
        },
        {
          "output_type": "stream",
          "name": "stderr",
          "text": [
            "WARNING:easyocr.easyocr:Downloading recognition model, please wait. This may take several minutes depending upon your network connection.\n"
          ]
        },
        {
          "output_type": "stream",
          "name": "stdout",
          "text": [
            "Progress: |██████████████████████████████████████████████████| 100.0% Complete"
          ]
        },
        {
          "output_type": "stream",
          "name": "stderr",
          "text": [
            "/usr/local/lib/python3.10/dist-packages/torch/nn/modules/conv.py:456: UserWarning: Plan failed with a cudnnException: CUDNN_BACKEND_EXECUTION_PLAN_DESCRIPTOR: cudnnFinalize Descriptor Failed cudnn_status: CUDNN_STATUS_NOT_SUPPORTED (Triggered internally at ../aten/src/ATen/native/cudnn/Conv_v8.cpp:919.)\n",
            "  return F.conv2d(input, weight, bias, self.stride,\n"
          ]
        },
        {
          "output_type": "stream",
          "name": "stdout",
          "text": [
            "Predicted Class: receipt\n",
            "OCR Result: [([[465, 203], [705, 203], [705, 263], [465, 263]], 'Ber qhote]', 0.6325335589100165), ([[388, 254], [552, 254], [552, 304], [388, 304]], 'Grosse', 0.9941371848520765), ([[568, 252], [684, 252], [684, 308], [568, 308]], 'Sche', 0.9995225071907043), ([[439, 301], [727, 301], [727, 345], [439, 345]], '3818 Gr indelwa Id', 0.6502805743947839), ([[439, 349], [727, 349], [727, 393], [439, 393]], 'Fami ]ie R. Mul ler', 0.33013049470401395), ([[179, 447], [313, 447], [313, 489], [179, 489]], 'Rech. Nr', 0.6187506710158083), ([[335, 447], [417, 447], [417, 489], [335, 489]], '4572', 0.6993084426273128), ([[594, 446], [932, 446], [932, 494], [594, 494]], '30.07.2007/13:29:17', 0.619726702847209), ([[179, 495], [241, 495], [241, 537], [179, 537]], 'Bar', 0.9488676837365144), ([[717, 495], [813, 495], [813, 539], [717, 539]], 'Tisch', 0.9999296278479316), ([[854, 494], [932, 494], [932, 542], [854, 542]], '7/01', 0.9999768733978271), ([[195, 593], [503, 593], [503, 637], [195, 637]], '2xLatte Macchiato', 0.6146859932100669), ([[547, 601], [567, 601], [567, 631], [547, 631]], 'a', 0.9958459453787647), ([[615, 595], [693, 595], [693, 637], [615, 637]], '4.50', 0.8808479309082031), ([[717, 595], [779, 595], [779, 635], [717, 635]], 'CHF', 0.9997927004264573), ([[839, 597], [917, 597], [917, 637], [839, 637]], '9.00', 0.9963461756706238), ([[197, 636], [327, 636], [327, 687], [197, 687]], 'IxGloki', 0.9921075859782953), ([[546, 646], [570, 646], [570, 678], [546, 678]], 'a', 0.9970430569213171), ([[615, 643], [695, 643], [695, 683], [615, 683]], '5.00', 0.9973533153533936), ([[717, 641], [779, 641], [779, 683], [717, 683]], 'CHF', 0.9076616168022156), ([[841, 641], [917, 641], [917, 683], [841, 683]], '5.00', 0.9986088275909424), ([[198, 684], [520, 684], [520, 732], [198, 732]], 'IxSchweinschnitze]', 0.9860275223793892), ([[549, 695], [569, 695], [569, 725], [549, 725]], 'a', 0.8531883898518231), ([[597, 687], [695, 687], [695, 729], [597, 729]], '22.00', 0.6433248577374052), ([[719, 687], [781, 687], [781, 729], [719, 729]], 'CHF', 0.9998529901468829), ([[823, 687], [919, 687], [919, 731], [823, 731]], '22.00', 0.9988274276821927), ([[198, 734], [432, 734], [432, 782], [198, 782]], 'IxChasspatz]i', 0.6319530538094725), ([[549, 743], [569, 743], [569, 771], [549, 771]], 'a', 0.9949778351666652), ([[603, 735], [695, 735], [695, 777], [603, 777]], '18. 50', 0.600871221877354), ([[719, 735], [781, 735], [781, 777], [719, 777]], 'CHF', 0.9998459700858884), ([[827, 735], [921, 735], [921, 777], [827, 777]], '18.50', 0.6163564681055832), ([[407, 837], [501, 837], [501, 881], [407, 881]], 'Tota]', 0.6259464716183286), ([[599, 837], [661, 837], [661, 879], [599, 879]], 'CHF', 0.9995474171340902), ([[754, 828], [896, 828], [896, 882], [754, 882]], '54,50', 0.997977153827247), ([[181, 935], [265, 935], [265, 975], [181, 975]], 'Inc].', 0.6979877046955375), ([[285, 931], [451, 931], [451, 975], [285, 975]], '7. 6% MwSt', 0.5633757513116582), ([[495, 931], [677, 931], [677, 973], [495, 973]], '54.50 CHF:', 0.6936994021597369), ([[741, 931], [821, 931], [821, 973], [741, 973]], '3.85', 0.9914047708497438), ([[176, 1032], [506, 1032], [506, 1080], [176, 1080]], 'Entspricht in Euro', 0.9101339057251571), ([[549, 1031], [647, 1031], [647, 1075], [549, 1075]], '36.33', 0.9999485537493242), ([[668, 1029], [737, 1029], [737, 1077], [668, 1077]], 'EUR', 0.9999406726414977), ([[175, 1083], [593, 1083], [593, 1127], [175, 1127]], 'Es bediente Sie: Ursula', 0.9526088356791457), ([[441, 1181], [579, 1181], [579, 1225], [441, 1225]], 'MwSt Nr', 0.9946710075954912), ([[619, 1181], [753, 1181], [753, 1225], [619, 1225]], '430 234', 0.9641954868388876), ([[407, 1231], [485, 1231], [485, 1275], [407, 1275]], 'Tel.', 0.5364169956749685), ([[513, 1229], [701, 1229], [701, 1273], [513, 1273]], '033 853 67', 0.9974932463604571), ([[713, 1229], [753, 1229], [753, 1271], [713, 1271]], '16', 0.9999307112841485), ([[408, 1276], [754, 1276], [754, 1326], [408, 1326]], 'Fax. : 033 853 67 19', 0.8472478452217223), ([[230, 1326], [842, 1326], [842, 1377], [230, 1377]], 'E-majI: grossescheidegg@b luewin: ch', 0.5486500274284236), ([[681.9959964937677, 244.0723758069975], [818.6979177270873, 262.9658175791809], [807.0040035062323, 326.9276241930025], [670.3020822729127, 308.0341824208191]], 'idegg', 0.9994482559878418)]\n"
          ]
        }
      ]
    }
  ]
}
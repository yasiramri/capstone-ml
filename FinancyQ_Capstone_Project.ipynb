{
  "nbformat": 4,
  "nbformat_minor": 0,
  "metadata": {
    "colab": {
      "provenance": [],
      "gpuType": "T4"
    },
    "kernelspec": {
      "name": "python3",
      "display_name": "Python 3"
    },
    "language_info": {
      "name": "python"
    },
    "accelerator": "GPU"
  },
  "cells": [
    {
      "cell_type": "code",
      "source": [
        "!pip install roboflow"
      ],
      "metadata": {
        "colab": {
          "base_uri": "https://localhost:8080/",
          "height": 1000
        },
        "collapsed": true,
        "outputId": "ec21efd7-7991-4760-bef2-3764f3b1d4d3",
        "id": "cr8SW8RlVYgp"
      },
      "execution_count": null,
      "outputs": [
        {
          "output_type": "stream",
          "name": "stdout",
          "text": [
            "Collecting roboflow\n",
            "  Downloading roboflow-1.1.31-py3-none-any.whl (75 kB)\n",
            "\u001b[2K     \u001b[90m━━━━━━━━━━━━━━━━━━━━━━━━━━━━━━━━━━━━━━━━\u001b[0m \u001b[32m75.6/75.6 kB\u001b[0m \u001b[31m2.8 MB/s\u001b[0m eta \u001b[36m0:00:00\u001b[0m\n",
            "\u001b[?25hCollecting certifi==2023.7.22 (from roboflow)\n",
            "  Downloading certifi-2023.7.22-py3-none-any.whl (158 kB)\n",
            "\u001b[2K     \u001b[90m━━━━━━━━━━━━━━━━━━━━━━━━━━━━━━━━━━━━━━━━\u001b[0m \u001b[32m158.3/158.3 kB\u001b[0m \u001b[31m11.7 MB/s\u001b[0m eta \u001b[36m0:00:00\u001b[0m\n",
            "\u001b[?25hCollecting chardet==4.0.0 (from roboflow)\n",
            "  Downloading chardet-4.0.0-py2.py3-none-any.whl (178 kB)\n",
            "\u001b[2K     \u001b[90m━━━━━━━━━━━━━━━━━━━━━━━━━━━━━━━━━━━━━━━━\u001b[0m \u001b[32m178.7/178.7 kB\u001b[0m \u001b[31m23.6 MB/s\u001b[0m eta \u001b[36m0:00:00\u001b[0m\n",
            "\u001b[?25hCollecting cycler==0.10.0 (from roboflow)\n",
            "  Downloading cycler-0.10.0-py2.py3-none-any.whl (6.5 kB)\n",
            "Collecting idna==2.10 (from roboflow)\n",
            "  Downloading idna-2.10-py2.py3-none-any.whl (58 kB)\n",
            "\u001b[2K     \u001b[90m━━━━━━━━━━━━━━━━━━━━━━━━━━━━━━━━━━━━━━━━\u001b[0m \u001b[32m58.8/58.8 kB\u001b[0m \u001b[31m9.5 MB/s\u001b[0m eta \u001b[36m0:00:00\u001b[0m\n",
            "\u001b[?25hRequirement already satisfied: kiwisolver>=1.3.1 in /usr/local/lib/python3.10/dist-packages (from roboflow) (1.4.5)\n",
            "Requirement already satisfied: matplotlib in /usr/local/lib/python3.10/dist-packages (from roboflow) (3.7.1)\n",
            "Requirement already satisfied: numpy>=1.18.5 in /usr/local/lib/python3.10/dist-packages (from roboflow) (1.25.2)\n",
            "Collecting opencv-python-headless==4.8.0.74 (from roboflow)\n",
            "  Downloading opencv_python_headless-4.8.0.74-cp37-abi3-manylinux_2_17_x86_64.manylinux2014_x86_64.whl (49.1 MB)\n",
            "\u001b[2K     \u001b[90m━━━━━━━━━━━━━━━━━━━━━━━━━━━━━━━━━━━━━━━━\u001b[0m \u001b[32m49.1/49.1 MB\u001b[0m \u001b[31m17.2 MB/s\u001b[0m eta \u001b[36m0:00:00\u001b[0m\n",
            "\u001b[?25hRequirement already satisfied: Pillow>=7.1.2 in /usr/local/lib/python3.10/dist-packages (from roboflow) (9.4.0)\n",
            "Requirement already satisfied: python-dateutil in /usr/local/lib/python3.10/dist-packages (from roboflow) (2.8.2)\n",
            "Collecting python-dotenv (from roboflow)\n",
            "  Downloading python_dotenv-1.0.1-py3-none-any.whl (19 kB)\n",
            "Requirement already satisfied: requests in /usr/local/lib/python3.10/dist-packages (from roboflow) (2.31.0)\n",
            "Requirement already satisfied: six in /usr/local/lib/python3.10/dist-packages (from roboflow) (1.16.0)\n",
            "Requirement already satisfied: urllib3>=1.26.6 in /usr/local/lib/python3.10/dist-packages (from roboflow) (2.0.7)\n",
            "Requirement already satisfied: tqdm>=4.41.0 in /usr/local/lib/python3.10/dist-packages (from roboflow) (4.66.4)\n",
            "Requirement already satisfied: PyYAML>=5.3.1 in /usr/local/lib/python3.10/dist-packages (from roboflow) (6.0.1)\n",
            "Collecting requests-toolbelt (from roboflow)\n",
            "  Downloading requests_toolbelt-1.0.0-py2.py3-none-any.whl (54 kB)\n",
            "\u001b[2K     \u001b[90m━━━━━━━━━━━━━━━━━━━━━━━━━━━━━━━━━━━━━━━━\u001b[0m \u001b[32m54.5/54.5 kB\u001b[0m \u001b[31m8.1 MB/s\u001b[0m eta \u001b[36m0:00:00\u001b[0m\n",
            "\u001b[?25hCollecting python-magic (from roboflow)\n",
            "  Downloading python_magic-0.4.27-py2.py3-none-any.whl (13 kB)\n",
            "Requirement already satisfied: contourpy>=1.0.1 in /usr/local/lib/python3.10/dist-packages (from matplotlib->roboflow) (1.2.1)\n",
            "Requirement already satisfied: fonttools>=4.22.0 in /usr/local/lib/python3.10/dist-packages (from matplotlib->roboflow) (4.53.0)\n",
            "Requirement already satisfied: packaging>=20.0 in /usr/local/lib/python3.10/dist-packages (from matplotlib->roboflow) (24.0)\n",
            "Requirement already satisfied: pyparsing>=2.3.1 in /usr/local/lib/python3.10/dist-packages (from matplotlib->roboflow) (3.1.2)\n",
            "Requirement already satisfied: charset-normalizer<4,>=2 in /usr/local/lib/python3.10/dist-packages (from requests->roboflow) (3.3.2)\n",
            "\u001b[33mWARNING: The candidate selected for download or install is a yanked version: 'opencv-python-headless' candidate (version 4.8.0.74 at https://files.pythonhosted.org/packages/76/02/f128517f3ade4bb5f71e2afd8461dba70e3f466ce745fa1fd1fade9ad1b7/opencv_python_headless-4.8.0.74-cp37-abi3-manylinux_2_17_x86_64.manylinux2014_x86_64.whl (from https://pypi.org/simple/opencv-python-headless/) (requires-python:>=3.6))\n",
            "Reason for being yanked: deprecated, use 4.8.0.76\u001b[0m\u001b[33m\n",
            "\u001b[0mInstalling collected packages: python-magic, python-dotenv, opencv-python-headless, idna, cycler, chardet, certifi, requests-toolbelt, roboflow\n",
            "  Attempting uninstall: opencv-python-headless\n",
            "    Found existing installation: opencv-python-headless 4.10.0.82\n",
            "    Uninstalling opencv-python-headless-4.10.0.82:\n",
            "      Successfully uninstalled opencv-python-headless-4.10.0.82\n",
            "  Attempting uninstall: idna\n",
            "    Found existing installation: idna 3.7\n",
            "    Uninstalling idna-3.7:\n",
            "      Successfully uninstalled idna-3.7\n",
            "  Attempting uninstall: cycler\n",
            "    Found existing installation: cycler 0.12.1\n",
            "    Uninstalling cycler-0.12.1:\n",
            "      Successfully uninstalled cycler-0.12.1\n",
            "  Attempting uninstall: chardet\n",
            "    Found existing installation: chardet 5.2.0\n",
            "    Uninstalling chardet-5.2.0:\n",
            "      Successfully uninstalled chardet-5.2.0\n",
            "  Attempting uninstall: certifi\n",
            "    Found existing installation: certifi 2024.6.2\n",
            "    Uninstalling certifi-2024.6.2:\n",
            "      Successfully uninstalled certifi-2024.6.2\n",
            "Successfully installed certifi-2023.7.22 chardet-4.0.0 cycler-0.10.0 idna-2.10 opencv-python-headless-4.8.0.74 python-dotenv-1.0.1 python-magic-0.4.27 requests-toolbelt-1.0.0 roboflow-1.1.31\n"
          ]
        },
        {
          "output_type": "display_data",
          "data": {
            "application/vnd.colab-display-data+json": {
              "pip_warning": {
                "packages": [
                  "certifi",
                  "cycler"
                ]
              },
              "id": "c8770111e90d43268d71d92bbe8d9eb8"
            }
          },
          "metadata": {}
        }
      ]
    },
    {
      "cell_type": "code",
      "source": [
        "!pip install easyocr"
      ],
      "metadata": {
        "colab": {
          "base_uri": "https://localhost:8080/"
        },
        "collapsed": true,
        "outputId": "614c8d34-b9b0-4fa3-ce94-566519e2b122",
        "id": "jDrNkN9yVYgq"
      },
      "execution_count": null,
      "outputs": [
        {
          "output_type": "stream",
          "name": "stdout",
          "text": [
            "Collecting easyocr\n",
            "  Downloading easyocr-1.7.1-py3-none-any.whl (2.9 MB)\n",
            "\u001b[?25l     \u001b[90m━━━━━━━━━━━━━━━━━━━━━━━━━━━━━━━━━━━━━━━━\u001b[0m \u001b[32m0.0/2.9 MB\u001b[0m \u001b[31m?\u001b[0m eta \u001b[36m-:--:--\u001b[0m\r\u001b[2K     \u001b[91m━━━━\u001b[0m\u001b[91m╸\u001b[0m\u001b[90m━━━━━━━━━━━━━━━━━━━━━━━━━━━━━━━━━━━\u001b[0m \u001b[32m0.4/2.9 MB\u001b[0m \u001b[31m10.4 MB/s\u001b[0m eta \u001b[36m0:00:01\u001b[0m\r\u001b[2K     \u001b[91m━━━━━━━━━━━━━━━━━━━━━━━━━━━\u001b[0m\u001b[91m╸\u001b[0m\u001b[90m━━━━━━━━━━━━\u001b[0m \u001b[32m2.0/2.9 MB\u001b[0m \u001b[31m28.9 MB/s\u001b[0m eta \u001b[36m0:00:01\u001b[0m\r\u001b[2K     \u001b[91m━━━━━━━━━━━━━━━━━━━━━━━━━━━━━━━━━━━━━━━\u001b[0m\u001b[91m╸\u001b[0m \u001b[32m2.9/2.9 MB\u001b[0m \u001b[31m36.7 MB/s\u001b[0m eta \u001b[36m0:00:01\u001b[0m\r\u001b[2K     \u001b[90m━━━━━━━━━━━━━━━━━━━━━━━━━━━━━━━━━━━━━━━━\u001b[0m \u001b[32m2.9/2.9 MB\u001b[0m \u001b[31m24.9 MB/s\u001b[0m eta \u001b[36m0:00:00\u001b[0m\n",
            "\u001b[?25hRequirement already satisfied: torch in /usr/local/lib/python3.10/dist-packages (from easyocr) (2.3.0+cu121)\n",
            "Requirement already satisfied: torchvision>=0.5 in /usr/local/lib/python3.10/dist-packages (from easyocr) (0.18.0+cu121)\n",
            "Requirement already satisfied: opencv-python-headless in /usr/local/lib/python3.10/dist-packages (from easyocr) (4.8.0.74)\n",
            "Requirement already satisfied: scipy in /usr/local/lib/python3.10/dist-packages (from easyocr) (1.11.4)\n",
            "Requirement already satisfied: numpy in /usr/local/lib/python3.10/dist-packages (from easyocr) (1.25.2)\n",
            "Requirement already satisfied: Pillow in /usr/local/lib/python3.10/dist-packages (from easyocr) (9.4.0)\n",
            "Requirement already satisfied: scikit-image in /usr/local/lib/python3.10/dist-packages (from easyocr) (0.19.3)\n",
            "Collecting python-bidi (from easyocr)\n",
            "  Downloading python_bidi-0.4.2-py2.py3-none-any.whl (30 kB)\n",
            "Requirement already satisfied: PyYAML in /usr/local/lib/python3.10/dist-packages (from easyocr) (6.0.1)\n",
            "Requirement already satisfied: Shapely in /usr/local/lib/python3.10/dist-packages (from easyocr) (2.0.4)\n",
            "Collecting pyclipper (from easyocr)\n",
            "  Downloading pyclipper-1.3.0.post5-cp310-cp310-manylinux_2_12_x86_64.manylinux2010_x86_64.whl (908 kB)\n",
            "\u001b[2K     \u001b[90m━━━━━━━━━━━━━━━━━━━━━━━━━━━━━━━━━━━━━━━━\u001b[0m \u001b[32m908.3/908.3 kB\u001b[0m \u001b[31m51.5 MB/s\u001b[0m eta \u001b[36m0:00:00\u001b[0m\n",
            "\u001b[?25hCollecting ninja (from easyocr)\n",
            "  Downloading ninja-1.11.1.1-py2.py3-none-manylinux1_x86_64.manylinux_2_5_x86_64.whl (307 kB)\n",
            "\u001b[2K     \u001b[90m━━━━━━━━━━━━━━━━━━━━━━━━━━━━━━━━━━━━━━━━\u001b[0m \u001b[32m307.2/307.2 kB\u001b[0m \u001b[31m34.6 MB/s\u001b[0m eta \u001b[36m0:00:00\u001b[0m\n",
            "\u001b[?25hRequirement already satisfied: filelock in /usr/local/lib/python3.10/dist-packages (from torch->easyocr) (3.14.0)\n",
            "Requirement already satisfied: typing-extensions>=4.8.0 in /usr/local/lib/python3.10/dist-packages (from torch->easyocr) (4.12.1)\n",
            "Requirement already satisfied: sympy in /usr/local/lib/python3.10/dist-packages (from torch->easyocr) (1.12.1)\n",
            "Requirement already satisfied: networkx in /usr/local/lib/python3.10/dist-packages (from torch->easyocr) (3.3)\n",
            "Requirement already satisfied: jinja2 in /usr/local/lib/python3.10/dist-packages (from torch->easyocr) (3.1.4)\n",
            "Requirement already satisfied: fsspec in /usr/local/lib/python3.10/dist-packages (from torch->easyocr) (2023.6.0)\n",
            "Collecting nvidia-cuda-nvrtc-cu12==12.1.105 (from torch->easyocr)\n",
            "  Using cached nvidia_cuda_nvrtc_cu12-12.1.105-py3-none-manylinux1_x86_64.whl (23.7 MB)\n",
            "Collecting nvidia-cuda-runtime-cu12==12.1.105 (from torch->easyocr)\n",
            "  Using cached nvidia_cuda_runtime_cu12-12.1.105-py3-none-manylinux1_x86_64.whl (823 kB)\n",
            "Collecting nvidia-cuda-cupti-cu12==12.1.105 (from torch->easyocr)\n",
            "  Using cached nvidia_cuda_cupti_cu12-12.1.105-py3-none-manylinux1_x86_64.whl (14.1 MB)\n",
            "Collecting nvidia-cudnn-cu12==8.9.2.26 (from torch->easyocr)\n",
            "  Using cached nvidia_cudnn_cu12-8.9.2.26-py3-none-manylinux1_x86_64.whl (731.7 MB)\n",
            "Collecting nvidia-cublas-cu12==12.1.3.1 (from torch->easyocr)\n",
            "  Using cached nvidia_cublas_cu12-12.1.3.1-py3-none-manylinux1_x86_64.whl (410.6 MB)\n",
            "Collecting nvidia-cufft-cu12==11.0.2.54 (from torch->easyocr)\n",
            "  Using cached nvidia_cufft_cu12-11.0.2.54-py3-none-manylinux1_x86_64.whl (121.6 MB)\n",
            "Collecting nvidia-curand-cu12==10.3.2.106 (from torch->easyocr)\n",
            "  Using cached nvidia_curand_cu12-10.3.2.106-py3-none-manylinux1_x86_64.whl (56.5 MB)\n",
            "Collecting nvidia-cusolver-cu12==11.4.5.107 (from torch->easyocr)\n",
            "  Using cached nvidia_cusolver_cu12-11.4.5.107-py3-none-manylinux1_x86_64.whl (124.2 MB)\n",
            "Collecting nvidia-cusparse-cu12==12.1.0.106 (from torch->easyocr)\n",
            "  Using cached nvidia_cusparse_cu12-12.1.0.106-py3-none-manylinux1_x86_64.whl (196.0 MB)\n",
            "Collecting nvidia-nccl-cu12==2.20.5 (from torch->easyocr)\n",
            "  Using cached nvidia_nccl_cu12-2.20.5-py3-none-manylinux2014_x86_64.whl (176.2 MB)\n",
            "Collecting nvidia-nvtx-cu12==12.1.105 (from torch->easyocr)\n",
            "  Using cached nvidia_nvtx_cu12-12.1.105-py3-none-manylinux1_x86_64.whl (99 kB)\n",
            "Requirement already satisfied: triton==2.3.0 in /usr/local/lib/python3.10/dist-packages (from torch->easyocr) (2.3.0)\n",
            "Collecting nvidia-nvjitlink-cu12 (from nvidia-cusolver-cu12==11.4.5.107->torch->easyocr)\n",
            "  Downloading nvidia_nvjitlink_cu12-12.5.40-py3-none-manylinux2014_x86_64.whl (21.3 MB)\n",
            "\u001b[2K     \u001b[90m━━━━━━━━━━━━━━━━━━━━━━━━━━━━━━━━━━━━━━━━\u001b[0m \u001b[32m21.3/21.3 MB\u001b[0m \u001b[31m70.9 MB/s\u001b[0m eta \u001b[36m0:00:00\u001b[0m\n",
            "\u001b[?25hRequirement already satisfied: six in /usr/local/lib/python3.10/dist-packages (from python-bidi->easyocr) (1.16.0)\n",
            "Requirement already satisfied: imageio>=2.4.1 in /usr/local/lib/python3.10/dist-packages (from scikit-image->easyocr) (2.31.6)\n",
            "Requirement already satisfied: tifffile>=2019.7.26 in /usr/local/lib/python3.10/dist-packages (from scikit-image->easyocr) (2024.5.22)\n",
            "Requirement already satisfied: PyWavelets>=1.1.1 in /usr/local/lib/python3.10/dist-packages (from scikit-image->easyocr) (1.6.0)\n",
            "Requirement already satisfied: packaging>=20.0 in /usr/local/lib/python3.10/dist-packages (from scikit-image->easyocr) (24.0)\n",
            "Requirement already satisfied: MarkupSafe>=2.0 in /usr/local/lib/python3.10/dist-packages (from jinja2->torch->easyocr) (2.1.5)\n",
            "Requirement already satisfied: mpmath<1.4.0,>=1.1.0 in /usr/local/lib/python3.10/dist-packages (from sympy->torch->easyocr) (1.3.0)\n",
            "Installing collected packages: pyclipper, ninja, python-bidi, nvidia-nvtx-cu12, nvidia-nvjitlink-cu12, nvidia-nccl-cu12, nvidia-curand-cu12, nvidia-cufft-cu12, nvidia-cuda-runtime-cu12, nvidia-cuda-nvrtc-cu12, nvidia-cuda-cupti-cu12, nvidia-cublas-cu12, nvidia-cusparse-cu12, nvidia-cudnn-cu12, nvidia-cusolver-cu12, easyocr\n",
            "Successfully installed easyocr-1.7.1 ninja-1.11.1.1 nvidia-cublas-cu12-12.1.3.1 nvidia-cuda-cupti-cu12-12.1.105 nvidia-cuda-nvrtc-cu12-12.1.105 nvidia-cuda-runtime-cu12-12.1.105 nvidia-cudnn-cu12-8.9.2.26 nvidia-cufft-cu12-11.0.2.54 nvidia-curand-cu12-10.3.2.106 nvidia-cusolver-cu12-11.4.5.107 nvidia-cusparse-cu12-12.1.0.106 nvidia-nccl-cu12-2.20.5 nvidia-nvjitlink-cu12-12.5.40 nvidia-nvtx-cu12-12.1.105 pyclipper-1.3.0.post5 python-bidi-0.4.2\n"
          ]
        }
      ]
    },
    {
      "cell_type": "code",
      "source": [
        "!pip install pytesseract"
      ],
      "metadata": {
        "colab": {
          "base_uri": "https://localhost:8080/"
        },
        "collapsed": true,
        "outputId": "29f795be-a890-4bca-8157-89c82700664c",
        "id": "gMoWsT0LVYgq"
      },
      "execution_count": null,
      "outputs": [
        {
          "output_type": "stream",
          "name": "stdout",
          "text": [
            "Collecting pytesseract\n",
            "  Downloading pytesseract-0.3.10-py3-none-any.whl (14 kB)\n",
            "Requirement already satisfied: packaging>=21.3 in /usr/local/lib/python3.10/dist-packages (from pytesseract) (24.0)\n",
            "Requirement already satisfied: Pillow>=8.0.0 in /usr/local/lib/python3.10/dist-packages (from pytesseract) (9.4.0)\n",
            "Installing collected packages: pytesseract\n",
            "Successfully installed pytesseract-0.3.10\n"
          ]
        }
      ]
    },
    {
      "cell_type": "code",
      "source": [
        "import easyocr\n",
        "import cv2\n",
        "import pytesseract\n",
        "import tensorflow as tf\n",
        "import os\n",
        "import numpy as np\n",
        "import matplotlib.pyplot as plt\n",
        "from sklearn.preprocessing import LabelEncoder\n",
        "from sklearn.model_selection import train_test_split\n",
        "from tensorflow.keras.preprocessing.image import img_to_array, load_img\n",
        "from tensorflow.keras.utils import to_categorical\n",
        "from tensorflow.keras.models import Sequential\n",
        "from tensorflow.keras.layers import Conv2D, MaxPooling2D, Flatten, Dropout, Dense\n",
        "from tensorflow.keras.optimizers import Adam\n",
        "from tensorflow.keras.callbacks import EarlyStopping, ModelCheckpoint\n",
        "from sklearn.metrics import classification_report\n",
        "from PIL import Image"
      ],
      "metadata": {
        "id": "mEAtbSyyVYgq"
      },
      "execution_count": null,
      "outputs": []
    },
    {
      "cell_type": "code",
      "source": [
        "!apt-get install tesseract-ocr-ind"
      ],
      "metadata": {
        "colab": {
          "base_uri": "https://localhost:8080/"
        },
        "collapsed": true,
        "outputId": "4ca576d9-5717-46eb-af3e-7220d6bc1064",
        "id": "oR0LirtWVYgq"
      },
      "execution_count": null,
      "outputs": [
        {
          "output_type": "stream",
          "name": "stdout",
          "text": [
            "Reading package lists... Done\n",
            "Building dependency tree... Done\n",
            "Reading state information... Done\n",
            "The following additional packages will be installed:\n",
            "  tesseract-ocr tesseract-ocr-eng tesseract-ocr-osd\n",
            "The following NEW packages will be installed:\n",
            "  tesseract-ocr tesseract-ocr-eng tesseract-ocr-ind tesseract-ocr-osd\n",
            "0 upgraded, 4 newly installed, 0 to remove and 45 not upgraded.\n",
            "Need to get 5,353 kB of archives.\n",
            "After this operation, 16.8 MB of additional disk space will be used.\n",
            "Get:1 http://archive.ubuntu.com/ubuntu jammy/universe amd64 tesseract-ocr-eng all 1:4.00~git30-7274cfa-1.1 [1,591 kB]\n",
            "Get:2 http://archive.ubuntu.com/ubuntu jammy/universe amd64 tesseract-ocr-osd all 1:4.00~git30-7274cfa-1.1 [2,990 kB]\n",
            "Get:3 http://archive.ubuntu.com/ubuntu jammy/universe amd64 tesseract-ocr amd64 4.1.1-2.1build1 [236 kB]\n",
            "Get:4 http://archive.ubuntu.com/ubuntu jammy/universe amd64 tesseract-ocr-ind all 1:4.00~git30-7274cfa-1.1 [537 kB]\n",
            "Fetched 5,353 kB in 3s (2,027 kB/s)\n",
            "Selecting previously unselected package tesseract-ocr-eng.\n",
            "(Reading database ... 121918 files and directories currently installed.)\n",
            "Preparing to unpack .../tesseract-ocr-eng_1%3a4.00~git30-7274cfa-1.1_all.deb ...\n",
            "Unpacking tesseract-ocr-eng (1:4.00~git30-7274cfa-1.1) ...\n",
            "Selecting previously unselected package tesseract-ocr-osd.\n",
            "Preparing to unpack .../tesseract-ocr-osd_1%3a4.00~git30-7274cfa-1.1_all.deb ...\n",
            "Unpacking tesseract-ocr-osd (1:4.00~git30-7274cfa-1.1) ...\n",
            "Selecting previously unselected package tesseract-ocr.\n",
            "Preparing to unpack .../tesseract-ocr_4.1.1-2.1build1_amd64.deb ...\n",
            "Unpacking tesseract-ocr (4.1.1-2.1build1) ...\n",
            "Selecting previously unselected package tesseract-ocr-ind.\n",
            "Preparing to unpack .../tesseract-ocr-ind_1%3a4.00~git30-7274cfa-1.1_all.deb ...\n",
            "Unpacking tesseract-ocr-ind (1:4.00~git30-7274cfa-1.1) ...\n",
            "Setting up tesseract-ocr-eng (1:4.00~git30-7274cfa-1.1) ...\n",
            "Setting up tesseract-ocr-ind (1:4.00~git30-7274cfa-1.1) ...\n",
            "Setting up tesseract-ocr-osd (1:4.00~git30-7274cfa-1.1) ...\n",
            "Setting up tesseract-ocr (4.1.1-2.1build1) ...\n",
            "Processing triggers for man-db (2.10.2-1) ...\n"
          ]
        }
      ]
    },
    {
      "cell_type": "code",
      "source": [
        "from roboflow import Roboflow\n",
        "rf = Roboflow(api_key=\"f77FoHccQ1RtNOK1tFRo\")\n",
        "project = rf.workspace(\"jakob-awn1e\").project(\"receipt-or-invoice\")\n",
        "version = project.version(2)\n",
        "dataset = version.download(\"folder\")"
      ],
      "metadata": {
        "colab": {
          "base_uri": "https://localhost:8080/"
        },
        "outputId": "2a38e408-d2ab-42bd-f6ae-c7bbe50d7e91",
        "id": "5tfgKJYwVYgr"
      },
      "execution_count": null,
      "outputs": [
        {
          "output_type": "stream",
          "name": "stdout",
          "text": [
            "loading Roboflow workspace...\n",
            "loading Roboflow project...\n"
          ]
        },
        {
          "output_type": "stream",
          "name": "stderr",
          "text": [
            "Downloading Dataset Version Zip in Receipt-or-Invoice-2 to folder:: 100%|██████████| 194763/194763 [00:14<00:00, 13261.98it/s]"
          ]
        },
        {
          "output_type": "stream",
          "name": "stdout",
          "text": [
            "\n"
          ]
        },
        {
          "output_type": "stream",
          "name": "stderr",
          "text": [
            "\n",
            "Extracting Dataset Version Zip to Receipt-or-Invoice-2 in folder:: 100%|██████████| 4325/4325 [00:00<00:00, 4453.11it/s]\n"
          ]
        }
      ]
    },
    {
      "cell_type": "code",
      "source": [
        "# Preprocessing\n",
        "def preprocess_images(image_path):\n",
        "    image = load_img(image_path, target_size=(224, 224))\n",
        "    image = img_to_array(image) / 255.0  # Normalization\n",
        "    return image\n",
        "\n",
        "def preprocess_for_ocr(image_path):\n",
        "    image = cv2.imread(image_path)\n",
        "    gray = cv2.cvtColor(image, cv2.COLOR_BGR2GRAY)  # Convert to grayscale\n",
        "    _, thresh = cv2.threshold(gray, 150, 255, cv2.THRESH_BINARY_INV)  # Apply thresholding\n",
        "    denoised = cv2.fastNlMeansDenoising(thresh, None, 30, 7, 21)  # Denoise the image\n",
        "    return denoised"
      ],
      "metadata": {
        "id": "9NnMxnXTVYgr"
      },
      "execution_count": null,
      "outputs": []
    },
    {
      "cell_type": "code",
      "source": [
        "def label_data(data_path):\n",
        "    images = []\n",
        "    labels = []\n",
        "    for root, dirs, files in os.walk(data_path):\n",
        "        for file in files:\n",
        "            if file.endswith('.jpg') or file.endswith('.png'):  # Ensure processing only image files\n",
        "                file_path = os.path.join(root, file)\n",
        "                label = os.path.basename(os.path.dirname(file_path))  # Correct label extraction\n",
        "                image = preprocess_images(file_path)\n",
        "                images.append(image)\n",
        "                labels.append(label)\n",
        "    return np.array(images), np.array(labels)"
      ],
      "metadata": {
        "id": "ZoGGtoemVYgr"
      },
      "execution_count": null,
      "outputs": []
    },
    {
      "cell_type": "code",
      "source": [
        "# Load dataset\n",
        "train_path = \"/content/Receipt-or-Invoice-2/train\"\n",
        "val_path = \"/content/Receipt-or-Invoice-2/valid\"\n",
        "test_path = \"/content/Receipt-or-Invoice-2/test\""
      ],
      "metadata": {
        "id": "dKuVdcWjVYgr"
      },
      "execution_count": null,
      "outputs": []
    },
    {
      "cell_type": "code",
      "source": [
        "X_train, y_train = label_data(train_path)\n",
        "X_val, y_val = label_data(val_path)\n",
        "X_test, y_test = label_data(test_path)"
      ],
      "metadata": {
        "id": "muYWqUxyVYgr"
      },
      "execution_count": null,
      "outputs": []
    },
    {
      "cell_type": "code",
      "source": [
        "# Combining labels from all three datasets\n",
        "all_labels = np.concatenate((y_train, y_val, y_test))\n",
        "\n",
        "# Encode labels\n",
        "label_encoder = LabelEncoder()\n",
        "label_encoder.fit(all_labels)\n",
        "\n",
        "# Re-encode labels for each dataset\n",
        "y_train = label_encoder.transform(y_train)\n",
        "y_val = label_encoder.transform(y_val)\n",
        "y_test = label_encoder.transform(y_test)"
      ],
      "metadata": {
        "id": "u9KDCfiRVYgr"
      },
      "execution_count": null,
      "outputs": []
    },
    {
      "cell_type": "code",
      "source": [
        "# Build CNN model\n",
        "model = Sequential([\n",
        "    Conv2D(32, (3, 3), activation='relu', input_shape=(224, 224, 3)),\n",
        "    MaxPooling2D((2, 2)),\n",
        "    Conv2D(64, (3, 3), activation='relu'),\n",
        "    MaxPooling2D((2, 2)),\n",
        "    Flatten(),\n",
        "    Dense(256, activation='relu'),\n",
        "    Dropout(0.5),\n",
        "    Dense(len(label_encoder.classes_), activation='softmax')\n",
        "])\n",
        "\n",
        "# Compile the model\n",
        "model.compile(optimizer=Adam(learning_rate=0.0001), loss='sparse_categorical_crossentropy', metrics=['accuracy'])"
      ],
      "metadata": {
        "id": "blJPE8UWVYgr"
      },
      "execution_count": null,
      "outputs": []
    },
    {
      "cell_type": "code",
      "source": [
        "# Train the model\n",
        "history = model.fit(X_train, y_train, validation_data=(X_val, y_val), epochs=15, batch_size=32)\n",
        "\n",
        "# Evaluate the model\n",
        "_, test_acc = model.evaluate(X_test, y_test)\n",
        "print(\"Test Accuracy:\", test_acc)"
      ],
      "metadata": {
        "colab": {
          "base_uri": "https://localhost:8080/"
        },
        "outputId": "d18c573c-9f18-4659-d5e7-e0860c6b3873",
        "id": "o0_EPwVaVYgr"
      },
      "execution_count": null,
      "outputs": [
        {
          "output_type": "stream",
          "name": "stdout",
          "text": [
            "Epoch 1/15\n",
            "118/118 [==============================] - 13s 74ms/step - loss: 0.4452 - accuracy: 0.8169 - val_loss: 0.2474 - val_accuracy: 0.9194\n",
            "Epoch 2/15\n",
            "118/118 [==============================] - 6s 54ms/step - loss: 0.1976 - accuracy: 0.9308 - val_loss: 0.2152 - val_accuracy: 0.9250\n",
            "Epoch 3/15\n",
            "118/118 [==============================] - 7s 58ms/step - loss: 0.1499 - accuracy: 0.9520 - val_loss: 0.2054 - val_accuracy: 0.9306\n",
            "Epoch 4/15\n",
            "118/118 [==============================] - 7s 57ms/step - loss: 0.1119 - accuracy: 0.9658 - val_loss: 0.2053 - val_accuracy: 0.9278\n",
            "Epoch 5/15\n",
            "118/118 [==============================] - 7s 58ms/step - loss: 0.0940 - accuracy: 0.9714 - val_loss: 0.2919 - val_accuracy: 0.8861\n",
            "Epoch 6/15\n",
            "118/118 [==============================] - 7s 56ms/step - loss: 0.0761 - accuracy: 0.9764 - val_loss: 0.1753 - val_accuracy: 0.9389\n",
            "Epoch 7/15\n",
            "118/118 [==============================] - 7s 56ms/step - loss: 0.0692 - accuracy: 0.9783 - val_loss: 0.2209 - val_accuracy: 0.9250\n",
            "Epoch 8/15\n",
            "118/118 [==============================] - 6s 55ms/step - loss: 0.0455 - accuracy: 0.9881 - val_loss: 0.2095 - val_accuracy: 0.9361\n",
            "Epoch 9/15\n",
            "118/118 [==============================] - 7s 63ms/step - loss: 0.0404 - accuracy: 0.9905 - val_loss: 0.2174 - val_accuracy: 0.9306\n",
            "Epoch 10/15\n",
            "118/118 [==============================] - 7s 55ms/step - loss: 0.0374 - accuracy: 0.9883 - val_loss: 0.1834 - val_accuracy: 0.9556\n",
            "Epoch 11/15\n",
            "118/118 [==============================] - 7s 57ms/step - loss: 0.0249 - accuracy: 0.9942 - val_loss: 0.2862 - val_accuracy: 0.8917\n",
            "Epoch 12/15\n",
            "118/118 [==============================] - 7s 56ms/step - loss: 0.0261 - accuracy: 0.9939 - val_loss: 0.2996 - val_accuracy: 0.8917\n",
            "Epoch 13/15\n",
            "118/118 [==============================] - 7s 58ms/step - loss: 0.0186 - accuracy: 0.9952 - val_loss: 0.2273 - val_accuracy: 0.9389\n",
            "Epoch 14/15\n",
            "118/118 [==============================] - 7s 57ms/step - loss: 0.0215 - accuracy: 0.9934 - val_loss: 0.2067 - val_accuracy: 0.9333\n",
            "Epoch 15/15\n",
            "118/118 [==============================] - 8s 69ms/step - loss: 0.0189 - accuracy: 0.9952 - val_loss: 0.2180 - val_accuracy: 0.9417\n",
            "6/6 [==============================] - 1s 111ms/step - loss: 0.1852 - accuracy: 0.9500\n",
            "Test Accuracy: 0.949999988079071\n"
          ]
        }
      ]
    },
    {
      "cell_type": "code",
      "source": [
        "# Plot training and validation accuracy\n",
        "train_acc = history.history['accuracy']\n",
        "val_acc = history.history['val_accuracy']\n",
        "epochs = range(1, len(train_acc) + 1)\n",
        "plt.plot(epochs, train_acc, 'b', label='Training Accuracy')\n",
        "plt.plot(epochs, val_acc, 'r', label='Validation Accuracy')\n",
        "plt.title('Training and Validation Accuracy')\n",
        "plt.xlabel('Epochs')\n",
        "plt.ylabel('Accuracy')\n",
        "plt.legend()\n",
        "plt.show()"
      ],
      "metadata": {
        "colab": {
          "base_uri": "https://localhost:8080/",
          "height": 472
        },
        "outputId": "f5efb4b4-9f2a-4c73-bca4-94829794e404",
        "id": "lZflN8PVVYgr"
      },
      "execution_count": null,
      "outputs": [
        {
          "output_type": "display_data",
          "data": {
            "text/plain": [
              "<Figure size 640x480 with 1 Axes>"
            ],
            "image/png": "[encoded data removed]"
          },
          "metadata": {}
        }
      ]
    },
    {
      "cell_type": "code",
      "source": [
        "# Perform text recognition using OCR\n",
        "def perform_ocr(image_path):\n",
        "    reader = easyocr.Reader(['en', 'id'])\n",
        "    result = reader.readtext(image_path)\n",
        "    return result"
      ],
      "metadata": {
        "id": "y9EJ8iYIVYgr"
      },
      "execution_count": null,
      "outputs": []
    },
    {
      "cell_type": "code",
      "source": [
        "# Integrate everything\n",
        "def integrate_ocr_with_model(image_path):\n",
        "    # Predict class using the CNN model\n",
        "    image = preprocess_images(image_path)\n",
        "    prediction = np.argmax(model.predict(np.array([image])))\n",
        "\n",
        "    # Perform OCR on the image\n",
        "    ocr_result = perform_ocr(image_path)\n",
        "\n",
        "    return label_encoder.classes_[prediction], ocr_result"
      ],
      "metadata": {
        "id": "97v5fsJ0VYgr"
      },
      "execution_count": null,
      "outputs": []
    },
    {
      "cell_type": "code",
      "source": [
        "# Example usage:\n",
        "image_path = \"/content/Receipt.jpg\"\n",
        "predicted_class, ocr_result = integrate_ocr_with_model(image_path)\n",
        "print(\"Predicted Class:\", predicted_class)\n",
        "print(\"OCR Result:\")\n",
        "for detection in ocr_result:\n",
        "    print(f\"Text: {detection[1]}, Confidence: {detection[2]}\")"
      ],
      "metadata": {
        "colab": {
          "base_uri": "https://localhost:8080/"
        },
        "outputId": "7ddba124-cde8-4c2b-dc8a-c497320a3ae3",
        "id": "hH4JTCx8VYgr"
      },
      "execution_count": null,
      "outputs": [
        {
          "output_type": "stream",
          "name": "stdout",
          "text": [
            "1/1 [==============================] - 0s 402ms/step\n"
          ]
        },
        {
          "output_type": "stream",
          "name": "stderr",
          "text": [
            "WARNING:easyocr.easyocr:Downloading detection model, please wait. This may take several minutes depending upon your network connection.\n"
          ]
        },
        {
          "output_type": "stream",
          "name": "stdout",
          "text": [
            "Progress: |██████████████████████████████████████████████████| 100.0% Complete"
          ]
        },
        {
          "output_type": "stream",
          "name": "stderr",
          "text": [
            "WARNING:easyocr.easyocr:Downloading recognition model, please wait. This may take several minutes depending upon your network connection.\n"
          ]
        },
        {
          "output_type": "stream",
          "name": "stdout",
          "text": [
            "Progress: |██████████████████████████████████████████████████| 100.0% Complete"
          ]
        },
        {
          "output_type": "stream",
          "name": "stderr",
          "text": [
            "/usr/local/lib/python3.10/dist-packages/torch/nn/modules/conv.py:456: UserWarning: Plan failed with a cudnnException: CUDNN_BACKEND_EXECUTION_PLAN_DESCRIPTOR: cudnnFinalize Descriptor Failed cudnn_status: CUDNN_STATUS_NOT_SUPPORTED (Triggered internally at ../aten/src/ATen/native/cudnn/Conv_v8.cpp:919.)\n",
            "  return F.conv2d(input, weight, bias, self.stride,\n"
          ]
        },
        {
          "output_type": "stream",
          "name": "stdout",
          "text": [
            "Predicted Class: receipt\n",
            "OCR Result:\n",
            "Text: Berqhote ], Confidence: 0.8967519824164157\n",
            "Text: Grosse, Confidence: 0.9994529007405955\n",
            "Text: Sche, Confidence: 0.9430770206822389\n",
            "Text: 3818 Grinde IwaId, Confidence: 0.6536418927028312\n",
            "Text: Fami lie R. Müller, Confidence: 0.2759040316249924\n",
            "Text: Rech. Nr, Confidence: 0.9790536126821262\n",
            "Text: 4572, Confidence: 0.9999497532844543\n",
            "Text: 30.07.2007/13.29; 17, Confidence: 0.4803789688803072\n",
            "Text: Bar, Confidence: 0.9997860933634213\n",
            "Text: Tisch, Confidence: 0.9999338395310541\n",
            "Text: 7/01, Confidence: 0.9996415972709656\n",
            "Text: 2xLatte Macchiato, Confidence: 0.8769158285422676\n",
            "Text: à, Confidence: 0.9996517007893004\n",
            "Text: 4.50, Confidence: 0.9664233922958374\n",
            "Text: CHF, Confidence: 0.996786334616584\n",
            "Text: 9.00, Confidence: 0.8152823448181152\n",
            "Text: IxG Ioki, Confidence: 0.4614249274482178\n",
            "Text: à, Confidence: 0.9995884126829289\n",
            "Text: 5.00, Confidence: 0.5018001198768616\n",
            "Text: CHF, Confidence: 0.9980319187427925\n",
            "Text: 5.00, Confidence: 0.9237239956855774\n",
            "Text: IxSchweinschnitze ], Confidence: 0.8288489255792428\n",
            "Text: à, Confidence: 0.9819351003421986\n",
            "Text: 22.0o, Confidence: 0.7515076514926191\n",
            "Text: CHF, Confidence: 0.999156728609959\n",
            "Text: 22. 00, Confidence: 0.8731962499149851\n",
            "Text: IxChässpätz /i, Confidence: 0.4300355400160438\n",
            "Text: a, Confidence: 0.21834993037000405\n",
            "Text: 18.50, Confidence: 0.9809572308013854\n",
            "Text: CHF, Confidence: 0.9990629994413469\n",
            "Text: 18.50, Confidence: 0.9957957829823517\n",
            "Text: Tota ], Confidence: 0.5140321234403161\n",
            "Text: CHF, Confidence: 0.9961376181214345\n",
            "Text: 54 , 50, Confidence: 0.4827260581982251\n",
            "Text: Inc1 ., Confidence: 0.4716085201097394\n",
            "Text: 7.6%  MwSt, Confidence: 0.7045801488163116\n",
            "Text: 54.50 CHF:, Confidence: 0.9100788151647289\n",
            "Text: 3.85, Confidence: 0.9602892949282775\n",
            "Text: Entspricht in Euro, Confidence: 0.8758281620659247\n",
            "Text: 36. 33, Confidence: 0.9257156582985149\n",
            "Text: EUR, Confidence: 0.9986882321753016\n",
            "Text: Es bediente Sie: Ursula, Confidence: 0.5606651015013155\n",
            "Text: MwSt Nr, Confidence: 0.5303204093823479\n",
            "Text: 430 234, Confidence: 0.7419390432462163\n",
            "Text: Te| ., Confidence: 0.255752540346628\n",
            "Text: 033 853 67, Confidence: 0.6493054206548232\n",
            "Text: 16, Confidence: 0.9999166345514564\n",
            "Text: Fax. : 033 853 67 19, Confidence: 0.5054553979052023\n",
            "Text: E-mai1; grossescheidegg@b Iuewin. ch, Confidence: 0.45185186625901225\n",
            "Text: idegg, Confidence: 0.9999757429984504\n"
          ]
        }
      ]
    },
    {
      "cell_type": "code",
      "source": [
        "# Example usage:\n",
        "image_path = \"/content/invoice.png\"\n",
        "predicted_class, ocr_result = integrate_ocr_with_model(image_path)\n",
        "print(\"Predicted Class:\", predicted_class)\n",
        "print(\"OCR Result:\")\n",
        "for detection in ocr_result:\n",
        "    print(f\"Text: {detection[1]}, Confidence: {detection[2]}\")"
      ],
      "metadata": {
        "colab": {
          "base_uri": "https://localhost:8080/"
        },
        "id": "G3jtTHyTT5nV",
        "outputId": "5fe9d75c-f896-434a-a620-63a15cdbbe42"
      },
      "execution_count": null,
      "outputs": [
        {
          "output_type": "stream",
          "name": "stdout",
          "text": [
            "1/1 [==============================] - 0s 19ms/step\n",
            "Predicted Class: invoice\n",
            "OCR Result:\n",
            "Text: PT. Bintang Makmur, Confidence: 0.9931868397582068\n",
            "Text: JL Pajajaran No 200 Ujungberung Bandung, Confidence: 0.7356129336232567\n",
            "Text: INVOICE, Confidence: 0.9993074884917803\n",
            "Text: NO: 4262782444, Confidence: 0.7918344681619945\n",
            "Text: Customor:, Confidence: 0.7758278692859658\n",
            "Text: Tanggal:, Confidence: 0.9901924041302075\n",
            "Text: 02-Doc-2010, Confidence: 0.7080820720910378\n",
            "Text: Cllacap, Toko Buku, Confidence: 0.8748850811984009\n",
            "Text: Alamat, Confidence: 0.9798944370809476\n",
            "Text: JL Cihampclas No 201, Confidence: 0.991067538656556\n",
            "Text: No Order:, Confidence: 0.6526089323171935\n",
            "Text: 7347324, Confidence: 0.6088045512535541\n",
            "Text: Kota, Confidence: 0.9907302856445312\n",
            "Text: Bandung, Confidence: 0.9994108252954842\n",
            "Text: Telepon, Confidence: 0.6790038079093476\n",
            "Text: 022-876351545, Confidence: 0.6568971449118448\n",
            "Text: Nama Barang, Confidence: 0.9560706865619055\n",
            "Text: Satuan, Confidence: 0.9954744399099282\n",
            "Text: Jumlah, Confidence: 0.9933082569598211\n",
            "Text: Harga, Confidence: 0.6468365614327785\n",
            "Text: Total, Confidence: 0.9923604546917671\n",
            "Text: Ballpoint Big, Confidence: 0.9971790027876634\n",
            "Text: Lusin, Confidence: 0.9979945376806255\n",
            "Text: 36,0o0, Confidence: 0.5526602263879287\n",
            "Text: 108,000, Confidence: 0.6669723547965943\n",
            "Text: Ballpoint Big, Confidence: 0.99771515567547\n",
            "Text: Lusin, Confidence: 0.9982972562932274\n",
            "Text: 36.OoC, Confidence: 0.1716977385041068\n",
            "Text: 108,000, Confidence: 0.7510111237648134\n",
            "Text: Pensil , Confidence: 0.8227945436771514\n",
            "Text: Lusin, Confidence: 0.9998031697540538\n",
            "Text: 8,400, Confidence: 0.9674974567065606\n",
            "Text: 33,600, Confidence: 0.7065423193674166\n",
            "Text: Kertas M4, Confidence: 0.5641446546851804\n",
            "Text: Rim, Confidence: 0.9635930348376064\n",
            "Text: 55,Oo0, Confidence: 0.18964178688641822\n",
            "Text: 275,000, Confidence: 0.9455559249137678\n",
            "Text: Ballpoint Pilot, Confidence: 0.983288807995404\n",
            "Text: Lusin, Confidence: 0.9972315875001413\n",
            "Text: 24,OoC, Confidence: 0.17473194745476664\n",
            "Text: 96,000, Confidence: 0.5705014739704604\n",
            "Text: Binder Klip, Confidence: 0.9904026762474587\n",
            "Text: Box, Confidence: 0.5234008518695038\n",
            "Text: 100,0o0, Confidence: 0.12614681761056612\n",
            "Text: 1,000,000, Confidence: 0.48611806211265307\n",
            "Text: Cartridge BC-20 Canon, Confidence: 0.9897501542171582\n",
            "Text: Buah, Confidence: 0.9996993541717529\n",
            "Text: 200.0o0, Confidence: 0.4515751944720823\n",
            "Text: 800,000}, Confidence: 0.30563419264757336\n",
            "Text: Sub Total, Confidence: 0.7769069477580677\n",
            "Text: 2420.500, Confidence: 0.5764267107428607\n",
            "Text: Discount, Confidence: 0.9999283492942669\n",
            "Text: 250,000, Confidence: 0.5840346632561189\n",
            "Text: Total, Confidence: 0.9547176918703343\n",
            "Text: 2170,600, Confidence: 0.7563404052863648\n",
            "Text: PT. Bintang Makmur, Confidence: 0.8868347952515797\n",
            "Text: Manager Penjualan ), Confidence: 0.8102075412211852\n",
            "Text: Nama, Confidence: 0.3576012849807739\n"
          ]
        }
      ]
    },
    {
      "cell_type": "code",
      "source": [
        "converter = tf.lite.TFLiteConverter.from_keras_model(model)\n",
        "tflite_model = converter.convert()"
      ],
      "metadata": {
        "id": "POe8qyLgdlMY"
      },
      "execution_count": null,
      "outputs": []
    },
    {
      "cell_type": "code",
      "source": [
        "with open('model.tflite', 'wb') as f:\n",
        "    f.write(tflite_model)"
      ],
      "metadata": {
        "id": "9FLZ3e_4dnN5"
      },
      "execution_count": null,
      "outputs": []
    }
  ]
}
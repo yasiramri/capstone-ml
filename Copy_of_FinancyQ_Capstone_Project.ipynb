{
  "nbformat": 4,
  "nbformat_minor": 0,
  "metadata": {
    "colab": {
      "provenance": [],
      "gpuType": "T4",
      "include_colab_link": true
    },
    "kernelspec": {
      "name": "python3",
      "display_name": "Python 3"
    },
    "language_info": {
      "name": "python"
    },
    "accelerator": "GPU"
  },
  "cells": [
    {
      "cell_type": "markdown",
      "metadata": {
        "id": "view-in-github",
        "colab_type": "text"
      },
      "source": [
        "<a href=\"https://colab.research.google.com/github/yasiramri/capstone-ml/blob/alya/Copy_of_FinancyQ_Capstone_Project.ipynb\" target=\"_parent\"><img src=\"https://colab.research.google.com/assets/colab-badge.svg\" alt=\"Open In Colab\"/></a>"
      ]
    },
    {
      "cell_type": "code",
      "source": [
        "!pip install roboflow"
      ],
      "metadata": {
        "id": "l4Q3BZGp_fmu",
        "colab": {
          "base_uri": "https://localhost:8080/",
          "height": 1000
        },
        "collapsed": true,
        "outputId": "3ac2417e-d1aa-479e-bf6a-b9f575134a53"
      },
      "execution_count": null,
      "outputs": [
        {
          "output_type": "stream",
          "name": "stdout",
          "text": [
            "Collecting roboflow\n",
            "  Downloading roboflow-1.1.30-py3-none-any.whl (75 kB)\n",
            "\u001b[2K     \u001b[90m━━━━━━━━━━━━━━━━━━━━━━━━━━━━━━━━━━━━━━━━\u001b[0m \u001b[32m75.5/75.5 kB\u001b[0m \u001b[31m2.1 MB/s\u001b[0m eta \u001b[36m0:00:00\u001b[0m\n",
            "\u001b[?25hCollecting certifi==2023.7.22 (from roboflow)\n",
            "  Downloading certifi-2023.7.22-py3-none-any.whl (158 kB)\n",
            "\u001b[2K     \u001b[90m━━━━━━━━━━━━━━━━━━━━━━━━━━━━━━━━━━━━━━━━\u001b[0m \u001b[32m158.3/158.3 kB\u001b[0m \u001b[31m9.2 MB/s\u001b[0m eta \u001b[36m0:00:00\u001b[0m\n",
            "\u001b[?25hCollecting chardet==4.0.0 (from roboflow)\n",
            "  Downloading chardet-4.0.0-py2.py3-none-any.whl (178 kB)\n",
            "\u001b[2K     \u001b[90m━━━━━━━━━━━━━━━━━━━━━━━━━━━━━━━━━━━━━━━━\u001b[0m \u001b[32m178.7/178.7 kB\u001b[0m \u001b[31m17.9 MB/s\u001b[0m eta \u001b[36m0:00:00\u001b[0m\n",
            "\u001b[?25hCollecting cycler==0.10.0 (from roboflow)\n",
            "  Downloading cycler-0.10.0-py2.py3-none-any.whl (6.5 kB)\n",
            "Collecting idna==2.10 (from roboflow)\n",
            "  Downloading idna-2.10-py2.py3-none-any.whl (58 kB)\n",
            "\u001b[2K     \u001b[90m━━━━━━━━━━━━━━━━━━━━━━━━━━━━━━━━━━━━━━━━\u001b[0m \u001b[32m58.8/58.8 kB\u001b[0m \u001b[31m9.2 MB/s\u001b[0m eta \u001b[36m0:00:00\u001b[0m\n",
            "\u001b[?25hRequirement already satisfied: kiwisolver>=1.3.1 in /usr/local/lib/python3.10/dist-packages (from roboflow) (1.4.5)\n",
            "Requirement already satisfied: matplotlib in /usr/local/lib/python3.10/dist-packages (from roboflow) (3.7.1)\n",
            "Requirement already satisfied: numpy>=1.18.5 in /usr/local/lib/python3.10/dist-packages (from roboflow) (1.25.2)\n",
            "Collecting opencv-python-headless==4.8.0.74 (from roboflow)\n",
            "  Downloading opencv_python_headless-4.8.0.74-cp37-abi3-manylinux_2_17_x86_64.manylinux2014_x86_64.whl (49.1 MB)\n",
            "\u001b[2K     \u001b[90m━━━━━━━━━━━━━━━━━━━━━━━━━━━━━━━━━━━━━━━━\u001b[0m \u001b[32m49.1/49.1 MB\u001b[0m \u001b[31m14.9 MB/s\u001b[0m eta \u001b[36m0:00:00\u001b[0m\n",
            "\u001b[?25hRequirement already satisfied: Pillow>=7.1.2 in /usr/local/lib/python3.10/dist-packages (from roboflow) (9.4.0)\n",
            "Requirement already satisfied: python-dateutil in /usr/local/lib/python3.10/dist-packages (from roboflow) (2.8.2)\n",
            "Collecting python-dotenv (from roboflow)\n",
            "  Downloading python_dotenv-1.0.1-py3-none-any.whl (19 kB)\n",
            "Requirement already satisfied: requests in /usr/local/lib/python3.10/dist-packages (from roboflow) (2.31.0)\n",
            "Requirement already satisfied: six in /usr/local/lib/python3.10/dist-packages (from roboflow) (1.16.0)\n",
            "Requirement already satisfied: urllib3>=1.26.6 in /usr/local/lib/python3.10/dist-packages (from roboflow) (2.0.7)\n",
            "Requirement already satisfied: tqdm>=4.41.0 in /usr/local/lib/python3.10/dist-packages (from roboflow) (4.66.4)\n",
            "Requirement already satisfied: PyYAML>=5.3.1 in /usr/local/lib/python3.10/dist-packages (from roboflow) (6.0.1)\n",
            "Collecting requests-toolbelt (from roboflow)\n",
            "  Downloading requests_toolbelt-1.0.0-py2.py3-none-any.whl (54 kB)\n",
            "\u001b[2K     \u001b[90m━━━━━━━━━━━━━━━━━━━━━━━━━━━━━━━━━━━━━━━━\u001b[0m \u001b[32m54.5/54.5 kB\u001b[0m \u001b[31m7.3 MB/s\u001b[0m eta \u001b[36m0:00:00\u001b[0m\n",
            "\u001b[?25hCollecting python-magic (from roboflow)\n",
            "  Downloading python_magic-0.4.27-py2.py3-none-any.whl (13 kB)\n",
            "Requirement already satisfied: contourpy>=1.0.1 in /usr/local/lib/python3.10/dist-packages (from matplotlib->roboflow) (1.2.1)\n",
            "Requirement already satisfied: fonttools>=4.22.0 in /usr/local/lib/python3.10/dist-packages (from matplotlib->roboflow) (4.51.0)\n",
            "Requirement already satisfied: packaging>=20.0 in /usr/local/lib/python3.10/dist-packages (from matplotlib->roboflow) (24.0)\n",
            "Requirement already satisfied: pyparsing>=2.3.1 in /usr/local/lib/python3.10/dist-packages (from matplotlib->roboflow) (3.1.2)\n",
            "Requirement already satisfied: charset-normalizer<4,>=2 in /usr/local/lib/python3.10/dist-packages (from requests->roboflow) (3.3.2)\n",
            "Installing collected packages: python-magic, python-dotenv, opencv-python-headless, idna, cycler, chardet, certifi, requests-toolbelt, roboflow\n",
            "  Attempting uninstall: opencv-python-headless\n",
            "    Found existing installation: opencv-python-headless 4.9.0.80\n",
            "    Uninstalling opencv-python-headless-4.9.0.80:\n",
            "      Successfully uninstalled opencv-python-headless-4.9.0.80\n",
            "  Attempting uninstall: idna\n",
            "    Found existing installation: idna 3.7\n",
            "    Uninstalling idna-3.7:\n",
            "      Successfully uninstalled idna-3.7\n",
            "  Attempting uninstall: cycler\n",
            "    Found existing installation: cycler 0.12.1\n",
            "    Uninstalling cycler-0.12.1:\n",
            "      Successfully uninstalled cycler-0.12.1\n",
            "  Attempting uninstall: chardet\n",
            "    Found existing installation: chardet 5.2.0\n",
            "    Uninstalling chardet-5.2.0:\n",
            "      Successfully uninstalled chardet-5.2.0\n",
            "  Attempting uninstall: certifi\n",
            "    Found existing installation: certifi 2024.2.2\n",
            "    Uninstalling certifi-2024.2.2:\n",
            "      Successfully uninstalled certifi-2024.2.2\n",
            "Successfully installed certifi-2023.7.22 chardet-4.0.0 cycler-0.10.0 idna-2.10 opencv-python-headless-4.8.0.74 python-dotenv-1.0.1 python-magic-0.4.27 requests-toolbelt-1.0.0 roboflow-1.1.30\n"
          ]
        },
        {
          "output_type": "display_data",
          "data": {
            "application/vnd.colab-display-data+json": {
              "pip_warning": {
                "packages": [
                  "certifi",
                  "cycler"
                ]
              },
              "id": "32a21627dac946379131a75b9b120270"
            }
          },
          "metadata": {}
        }
      ]
    },
    {
      "cell_type": "code",
      "source": [
        "!pip install easyocr"
      ],
      "metadata": {
        "colab": {
          "base_uri": "https://localhost:8080/"
        },
        "collapsed": true,
        "id": "BoJ5ElCy-7We",
        "outputId": "d9c2959b-cbe0-4d84-95d5-c34a601bd4b8"
      },
      "execution_count": null,
      "outputs": [
        {
          "output_type": "stream",
          "name": "stdout",
          "text": [
            "Collecting easyocr\n",
            "  Using cached easyocr-1.7.1-py3-none-any.whl (2.9 MB)\n",
            "Requirement already satisfied: torch in /usr/local/lib/python3.10/dist-packages (from easyocr) (2.3.0+cu121)\n",
            "Requirement already satisfied: torchvision>=0.5 in /usr/local/lib/python3.10/dist-packages (from easyocr) (0.18.0+cu121)\n",
            "Requirement already satisfied: opencv-python-headless in /usr/local/lib/python3.10/dist-packages (from easyocr) (4.8.0.74)\n",
            "Requirement already satisfied: scipy in /usr/local/lib/python3.10/dist-packages (from easyocr) (1.11.4)\n",
            "Requirement already satisfied: numpy in /usr/local/lib/python3.10/dist-packages (from easyocr) (1.25.2)\n",
            "Requirement already satisfied: Pillow in /usr/local/lib/python3.10/dist-packages (from easyocr) (9.4.0)\n",
            "Requirement already satisfied: scikit-image in /usr/local/lib/python3.10/dist-packages (from easyocr) (0.19.3)\n",
            "Collecting python-bidi (from easyocr)\n",
            "  Using cached python_bidi-0.4.2-py2.py3-none-any.whl (30 kB)\n",
            "Requirement already satisfied: PyYAML in /usr/local/lib/python3.10/dist-packages (from easyocr) (6.0.1)\n",
            "Requirement already satisfied: Shapely in /usr/local/lib/python3.10/dist-packages (from easyocr) (2.0.4)\n",
            "Collecting pyclipper (from easyocr)\n",
            "  Using cached pyclipper-1.3.0.post5-cp310-cp310-manylinux_2_12_x86_64.manylinux2010_x86_64.whl (908 kB)\n",
            "Collecting ninja (from easyocr)\n",
            "  Using cached ninja-1.11.1.1-py2.py3-none-manylinux1_x86_64.manylinux_2_5_x86_64.whl (307 kB)\n",
            "Requirement already satisfied: filelock in /usr/local/lib/python3.10/dist-packages (from torch->easyocr) (3.14.0)\n",
            "Requirement already satisfied: typing-extensions>=4.8.0 in /usr/local/lib/python3.10/dist-packages (from torch->easyocr) (4.11.0)\n",
            "Requirement already satisfied: sympy in /usr/local/lib/python3.10/dist-packages (from torch->easyocr) (1.12)\n",
            "Requirement already satisfied: networkx in /usr/local/lib/python3.10/dist-packages (from torch->easyocr) (3.3)\n",
            "Requirement already satisfied: jinja2 in /usr/local/lib/python3.10/dist-packages (from torch->easyocr) (3.1.4)\n",
            "Requirement already satisfied: fsspec in /usr/local/lib/python3.10/dist-packages (from torch->easyocr) (2023.6.0)\n",
            "Collecting nvidia-cuda-nvrtc-cu12==12.1.105 (from torch->easyocr)\n",
            "  Using cached nvidia_cuda_nvrtc_cu12-12.1.105-py3-none-manylinux1_x86_64.whl (23.7 MB)\n",
            "Collecting nvidia-cuda-runtime-cu12==12.1.105 (from torch->easyocr)\n",
            "  Using cached nvidia_cuda_runtime_cu12-12.1.105-py3-none-manylinux1_x86_64.whl (823 kB)\n",
            "Collecting nvidia-cuda-cupti-cu12==12.1.105 (from torch->easyocr)\n",
            "  Using cached nvidia_cuda_cupti_cu12-12.1.105-py3-none-manylinux1_x86_64.whl (14.1 MB)\n",
            "Collecting nvidia-cudnn-cu12==8.9.2.26 (from torch->easyocr)\n",
            "  Using cached nvidia_cudnn_cu12-8.9.2.26-py3-none-manylinux1_x86_64.whl (731.7 MB)\n",
            "Collecting nvidia-cublas-cu12==12.1.3.1 (from torch->easyocr)\n",
            "  Using cached nvidia_cublas_cu12-12.1.3.1-py3-none-manylinux1_x86_64.whl (410.6 MB)\n",
            "Collecting nvidia-cufft-cu12==11.0.2.54 (from torch->easyocr)\n",
            "  Using cached nvidia_cufft_cu12-11.0.2.54-py3-none-manylinux1_x86_64.whl (121.6 MB)\n",
            "Collecting nvidia-curand-cu12==10.3.2.106 (from torch->easyocr)\n",
            "  Using cached nvidia_curand_cu12-10.3.2.106-py3-none-manylinux1_x86_64.whl (56.5 MB)\n",
            "Collecting nvidia-cusolver-cu12==11.4.5.107 (from torch->easyocr)\n",
            "  Using cached nvidia_cusolver_cu12-11.4.5.107-py3-none-manylinux1_x86_64.whl (124.2 MB)\n",
            "Collecting nvidia-cusparse-cu12==12.1.0.106 (from torch->easyocr)\n",
            "  Using cached nvidia_cusparse_cu12-12.1.0.106-py3-none-manylinux1_x86_64.whl (196.0 MB)\n",
            "Collecting nvidia-nccl-cu12==2.20.5 (from torch->easyocr)\n",
            "  Using cached nvidia_nccl_cu12-2.20.5-py3-none-manylinux2014_x86_64.whl (176.2 MB)\n",
            "Collecting nvidia-nvtx-cu12==12.1.105 (from torch->easyocr)\n",
            "  Using cached nvidia_nvtx_cu12-12.1.105-py3-none-manylinux1_x86_64.whl (99 kB)\n",
            "Requirement already satisfied: triton==2.3.0 in /usr/local/lib/python3.10/dist-packages (from torch->easyocr) (2.3.0)\n",
            "Collecting nvidia-nvjitlink-cu12 (from nvidia-cusolver-cu12==11.4.5.107->torch->easyocr)\n",
            "  Downloading nvidia_nvjitlink_cu12-12.5.40-py3-none-manylinux2014_x86_64.whl (21.3 MB)\n",
            "\u001b[2K     \u001b[90m━━━━━━━━━━━━━━━━━━━━━━━━━━━━━━━━━━━━━━━━\u001b[0m \u001b[32m21.3/21.3 MB\u001b[0m \u001b[31m60.7 MB/s\u001b[0m eta \u001b[36m0:00:00\u001b[0m\n",
            "\u001b[?25hRequirement already satisfied: six in /usr/local/lib/python3.10/dist-packages (from python-bidi->easyocr) (1.16.0)\n",
            "Requirement already satisfied: imageio>=2.4.1 in /usr/local/lib/python3.10/dist-packages (from scikit-image->easyocr) (2.31.6)\n",
            "Requirement already satisfied: tifffile>=2019.7.26 in /usr/local/lib/python3.10/dist-packages (from scikit-image->easyocr) (2024.5.22)\n",
            "Requirement already satisfied: PyWavelets>=1.1.1 in /usr/local/lib/python3.10/dist-packages (from scikit-image->easyocr) (1.6.0)\n",
            "Requirement already satisfied: packaging>=20.0 in /usr/local/lib/python3.10/dist-packages (from scikit-image->easyocr) (24.0)\n",
            "Requirement already satisfied: MarkupSafe>=2.0 in /usr/local/lib/python3.10/dist-packages (from jinja2->torch->easyocr) (2.1.5)\n",
            "Requirement already satisfied: mpmath>=0.19 in /usr/local/lib/python3.10/dist-packages (from sympy->torch->easyocr) (1.3.0)\n",
            "Installing collected packages: pyclipper, ninja, python-bidi, nvidia-nvtx-cu12, nvidia-nvjitlink-cu12, nvidia-nccl-cu12, nvidia-curand-cu12, nvidia-cufft-cu12, nvidia-cuda-runtime-cu12, nvidia-cuda-nvrtc-cu12, nvidia-cuda-cupti-cu12, nvidia-cublas-cu12, nvidia-cusparse-cu12, nvidia-cudnn-cu12, nvidia-cusolver-cu12, easyocr\n",
            "Successfully installed easyocr-1.7.1 ninja-1.11.1.1 nvidia-cublas-cu12-12.1.3.1 nvidia-cuda-cupti-cu12-12.1.105 nvidia-cuda-nvrtc-cu12-12.1.105 nvidia-cuda-runtime-cu12-12.1.105 nvidia-cudnn-cu12-8.9.2.26 nvidia-cufft-cu12-11.0.2.54 nvidia-curand-cu12-10.3.2.106 nvidia-cusolver-cu12-11.4.5.107 nvidia-cusparse-cu12-12.1.0.106 nvidia-nccl-cu12-2.20.5 nvidia-nvjitlink-cu12-12.5.40 nvidia-nvtx-cu12-12.1.105 pyclipper-1.3.0.post5 python-bidi-0.4.2\n"
          ]
        }
      ]
    },
    {
      "cell_type": "code",
      "source": [
        "!pip install pytesseract"
      ],
      "metadata": {
        "colab": {
          "base_uri": "https://localhost:8080/"
        },
        "collapsed": true,
        "id": "47yj3TsW_1U2",
        "outputId": "7b6999a5-309a-4b5e-86d3-25c3c70f5200"
      },
      "execution_count": null,
      "outputs": [
        {
          "output_type": "stream",
          "name": "stdout",
          "text": [
            "Requirement already satisfied: pytesseract in /usr/local/lib/python3.10/dist-packages (0.3.10)\n",
            "Requirement already satisfied: packaging>=21.3 in /usr/local/lib/python3.10/dist-packages (from pytesseract) (24.0)\n",
            "Requirement already satisfied: Pillow>=8.0.0 in /usr/local/lib/python3.10/dist-packages (from pytesseract) (9.4.0)\n"
          ]
        }
      ]
    },
    {
      "cell_type": "code",
      "source": [
        "import easyocr\n",
        "import cv2\n",
        "import pytesseract\n",
        "import random\n",
        "import tensorflow as tf\n",
        "import os\n",
        "import numpy as np\n",
        "import matplotlib.pyplot as plt\n",
        "import matplotlib.image as mpimg\n",
        "import re\n",
        "from sklearn.preprocessing import LabelEncoder\n",
        "from sklearn.model_selection import train_test_split\n",
        "from tensorflow.keras.preprocessing.image import img_to_array, load_img\n",
        "from tensorflow.keras.utils import to_categorical\n",
        "from tensorflow.keras.models import Sequential\n",
        "from tensorflow.keras.layers import Conv2D, MaxPooling2D, Flatten, Dense\n",
        "from tensorflow.keras.optimizers import Adam\n",
        "from sklearn.metrics import classification_report\n",
        "from pytesseract import Output\n",
        "from PIL import Image"
      ],
      "metadata": {
        "id": "5L-1VboQ-kRA"
      },
      "execution_count": null,
      "outputs": []
    },
    {
      "cell_type": "code",
      "source": [
        "!apt-get install tesseract-ocr"
      ],
      "metadata": {
        "colab": {
          "base_uri": "https://localhost:8080/"
        },
        "id": "FkOh5N5q8EWv",
        "outputId": "bd1f65f8-feed-4350-aa25-c747acb14cd8"
      },
      "execution_count": null,
      "outputs": [
        {
          "output_type": "stream",
          "name": "stdout",
          "text": [
            "Reading package lists... Done\n",
            "Building dependency tree... Done\n",
            "Reading state information... Done\n",
            "The following additional packages will be installed:\n",
            "  tesseract-ocr-eng tesseract-ocr-osd\n",
            "The following NEW packages will be installed:\n",
            "  tesseract-ocr tesseract-ocr-eng tesseract-ocr-osd\n",
            "0 upgraded, 3 newly installed, 0 to remove and 45 not upgraded.\n",
            "Need to get 4,816 kB of archives.\n",
            "After this operation, 15.6 MB of additional disk space will be used.\n",
            "Get:1 http://archive.ubuntu.com/ubuntu jammy/universe amd64 tesseract-ocr-eng all 1:4.00~git30-7274cfa-1.1 [1,591 kB]\n",
            "Get:2 http://archive.ubuntu.com/ubuntu jammy/universe amd64 tesseract-ocr-osd all 1:4.00~git30-7274cfa-1.1 [2,990 kB]\n",
            "Get:3 http://archive.ubuntu.com/ubuntu jammy/universe amd64 tesseract-ocr amd64 4.1.1-2.1build1 [236 kB]\n",
            "Fetched 4,816 kB in 2s (2,643 kB/s)\n",
            "Selecting previously unselected package tesseract-ocr-eng.\n",
            "(Reading database ... 121918 files and directories currently installed.)\n",
            "Preparing to unpack .../tesseract-ocr-eng_1%3a4.00~git30-7274cfa-1.1_all.deb ...\n",
            "Unpacking tesseract-ocr-eng (1:4.00~git30-7274cfa-1.1) ...\n",
            "Selecting previously unselected package tesseract-ocr-osd.\n",
            "Preparing to unpack .../tesseract-ocr-osd_1%3a4.00~git30-7274cfa-1.1_all.deb ...\n",
            "Unpacking tesseract-ocr-osd (1:4.00~git30-7274cfa-1.1) ...\n",
            "Selecting previously unselected package tesseract-ocr.\n",
            "Preparing to unpack .../tesseract-ocr_4.1.1-2.1build1_amd64.deb ...\n",
            "Unpacking tesseract-ocr (4.1.1-2.1build1) ...\n",
            "Setting up tesseract-ocr-eng (1:4.00~git30-7274cfa-1.1) ...\n",
            "Setting up tesseract-ocr-osd (1:4.00~git30-7274cfa-1.1) ...\n",
            "Setting up tesseract-ocr (4.1.1-2.1build1) ...\n",
            "Processing triggers for man-db (2.10.2-1) ...\n"
          ]
        }
      ]
    },
    {
      "cell_type": "code",
      "source": [
        "!tesseract --version"
      ],
      "metadata": {
        "colab": {
          "base_uri": "https://localhost:8080/"
        },
        "id": "HHjLhWIX78id",
        "outputId": "f5ad914b-b569-4e45-aecd-81c579cd01cc"
      },
      "execution_count": null,
      "outputs": [
        {
          "output_type": "stream",
          "name": "stdout",
          "text": [
            "tesseract 4.1.1\n",
            " leptonica-1.82.0\n",
            "  libgif 5.1.9 : libjpeg 8d (libjpeg-turbo 2.1.1) : libpng 1.6.37 : libtiff 4.3.0 : zlib 1.2.11 : libwebp 1.2.2 : libopenjp2 2.4.0\n",
            " Found AVX2\n",
            " Found AVX\n",
            " Found FMA\n",
            " Found SSE\n",
            " Found libarchive 3.6.0 zlib/1.2.11 liblzma/5.2.5 bz2lib/1.0.8 liblz4/1.9.3 libzstd/1.4.8\n"
          ]
        }
      ]
    },
    {
      "cell_type": "code",
      "source": [
        "import os\n",
        "os.environ['PATH'] += \":/usr/bin/tesseract\""
      ],
      "metadata": {
        "id": "SUNIMwjY8JxA"
      },
      "execution_count": null,
      "outputs": []
    },
    {
      "cell_type": "code",
      "source": [
        "from roboflow import Roboflow\n",
        "rf = Roboflow(api_key=\"f77FoHccQ1RtNOK1tFRo\")\n",
        "project = rf.workspace(\"jakob-awn1e\").project(\"receipt-or-invoice\")\n",
        "version = project.version(2)\n",
        "dataset = version.download(\"folder\")"
      ],
      "metadata": {
        "colab": {
          "base_uri": "https://localhost:8080/"
        },
        "id": "ZCQq1VIz-07k",
        "outputId": "c9d8086a-1bb0-440a-e412-aaa55c253eab"
      },
      "execution_count": null,
      "outputs": [
        {
          "output_type": "stream",
          "name": "stdout",
          "text": [
            "loading Roboflow workspace...\n",
            "loading Roboflow project...\n"
          ]
        },
        {
          "output_type": "stream",
          "name": "stderr",
          "text": [
            "Downloading Dataset Version Zip in Receipt-or-Invoice-2 to folder:: 100%|██████████| 194763/194763 [00:06<00:00, 32049.76it/s]"
          ]
        },
        {
          "output_type": "stream",
          "name": "stdout",
          "text": [
            "\n"
          ]
        },
        {
          "output_type": "stream",
          "name": "stderr",
          "text": [
            "\n",
            "Extracting Dataset Version Zip to Receipt-or-Invoice-2 in folder:: 100%|██████████| 4325/4325 [00:00<00:00, 4367.46it/s]\n"
          ]
        }
      ]
    },
    {
      "cell_type": "code",
      "source": [
        "# Preprocessing\n",
        "def preprocess_images(image_path):\n",
        "    image = load_img(image_path, target_size=(224, 224))\n",
        "    image = img_to_array(image) / 255.0  # Normalization\n",
        "    return image"
      ],
      "metadata": {
        "id": "BcVZBldXBZku"
      },
      "execution_count": null,
      "outputs": []
    },
    {
      "cell_type": "code",
      "source": [
        "def label_data(data_path):\n",
        "    images = []\n",
        "    labels = []\n",
        "    for root, dirs, files in os.walk(data_path):\n",
        "        for file in files:\n",
        "            if file.endswith('.jpg') or file.endswith('.png'):  # Ensure processing only image files\n",
        "                file_path = os.path.join(root, file)\n",
        "                label = os.path.basename(os.path.dirname(file_path))  # Correct label extraction\n",
        "                image = preprocess_images(file_path)\n",
        "                images.append(image)\n",
        "                labels.append(label)\n",
        "    return np.array(images), np.array(labels)"
      ],
      "metadata": {
        "id": "1MBSZ273BduW"
      },
      "execution_count": null,
      "outputs": []
    },
    {
      "cell_type": "code",
      "source": [
        "# Load dataset\n",
        "train_path = \"/content/Receipt-or-Invoice-2/train\"\n",
        "val_path = \"/content/Receipt-or-Invoice-2/valid\"\n",
        "test_path = \"/content/Receipt-or-Invoice-2/test\""
      ],
      "metadata": {
        "id": "F8Xp8ehqBjnG"
      },
      "execution_count": null,
      "outputs": []
    },
    {
      "cell_type": "code",
      "source": [
        "X_train, y_train = label_data(train_path)\n",
        "X_val, y_val = label_data(val_path)\n",
        "X_test, y_test = label_data(test_path)"
      ],
      "metadata": {
        "id": "Ko527GN2D0fH"
      },
      "execution_count": null,
      "outputs": []
    },
    {
      "cell_type": "code",
      "source": [
        "import numpy as np\n",
        "# Combining labels from all three datasets\n",
        "all_labels = np.concatenate((y_train, y_val, y_test))\n",
        "\n",
        "# Encode labels\n",
        "label_encoder = LabelEncoder()\n",
        "label_encoder.fit(all_labels)\n",
        "\n",
        "# Re-encode labels for each dataset\n",
        "y_train = label_encoder.transform(y_train)\n",
        "y_val = label_encoder.transform(y_val)\n",
        "y_test = label_encoder.transform(y_test)"
      ],
      "metadata": {
        "id": "MH01xUyTD3eE"
      },
      "execution_count": null,
      "outputs": []
    },
    {
      "cell_type": "code",
      "source": [
        "# Build CNN model\n",
        "model = Sequential([\n",
        "    Conv2D(32, (3, 3), activation='relu', input_shape=(224, 224, 3)),\n",
        "    MaxPooling2D((2, 2)),\n",
        "    Conv2D(64, (3, 3), activation='relu'),\n",
        "    MaxPooling2D((2, 2)),\n",
        "    Flatten(),\n",
        "    Dense(64, activation='relu'),\n",
        "    Dense(len(label_encoder.classes_), activation='softmax')\n",
        "])\n",
        "\n",
        "# Compile the model\n",
        "model.compile(optimizer=Adam(), loss='sparse_categorical_crossentropy', metrics=['accuracy'])"
      ],
      "metadata": {
        "id": "wSuY0LcTBm1t"
      },
      "execution_count": null,
      "outputs": []
    },
    {
      "cell_type": "code",
      "source": [
        "# Train the model\n",
        "model.fit(X_train, y_train, validation_data=(X_val, y_val), epochs=20, batch_size=32)\n",
        "\n",
        "# Evaluate the model\n",
        "_, test_acc = model.evaluate(X_test, y_test)\n",
        "print(\"Test Accuracy:\", test_acc)"
      ],
      "metadata": {
        "colab": {
          "base_uri": "https://localhost:8080/"
        },
        "id": "3ugDasEmD9yc",
        "outputId": "b91f8bf7-5996-4b0c-f3da-a20d2f1e619c"
      },
      "execution_count": null,
      "outputs": [
        {
          "output_type": "stream",
          "name": "stdout",
          "text": [
            "Epoch 1/20\n",
            "118/118 [==============================] - 6s 50ms/step - loss: 0.0263 - accuracy: 0.9921 - val_loss: 1.0179 - val_accuracy: 0.7639\n",
            "Epoch 2/20\n",
            "118/118 [==============================] - 5s 43ms/step - loss: 0.0063 - accuracy: 0.9981 - val_loss: 0.9050 - val_accuracy: 0.7889\n",
            "Epoch 3/20\n",
            "118/118 [==============================] - 5s 47ms/step - loss: 8.5294e-04 - accuracy: 1.0000 - val_loss: 1.1505 - val_accuracy: 0.7833\n",
            "Epoch 4/20\n",
            "118/118 [==============================] - 5s 44ms/step - loss: 1.9282e-04 - accuracy: 1.0000 - val_loss: 0.9615 - val_accuracy: 0.8083\n",
            "Epoch 5/20\n",
            "118/118 [==============================] - 6s 47ms/step - loss: 1.4662e-04 - accuracy: 1.0000 - val_loss: 1.0004 - val_accuracy: 0.7972\n",
            "Epoch 6/20\n",
            "118/118 [==============================] - 5s 43ms/step - loss: 1.0116e-04 - accuracy: 1.0000 - val_loss: 0.9680 - val_accuracy: 0.8167\n",
            "Epoch 7/20\n",
            "118/118 [==============================] - 5s 44ms/step - loss: 7.9225e-05 - accuracy: 1.0000 - val_loss: 0.9534 - val_accuracy: 0.8167\n",
            "Epoch 8/20\n",
            "118/118 [==============================] - 5s 46ms/step - loss: 6.6240e-05 - accuracy: 1.0000 - val_loss: 0.9538 - val_accuracy: 0.8222\n",
            "Epoch 9/20\n",
            "118/118 [==============================] - 5s 44ms/step - loss: 5.5795e-05 - accuracy: 1.0000 - val_loss: 0.9735 - val_accuracy: 0.8194\n",
            "Epoch 10/20\n",
            "118/118 [==============================] - 5s 45ms/step - loss: 4.8662e-05 - accuracy: 1.0000 - val_loss: 0.9374 - val_accuracy: 0.8250\n",
            "Epoch 11/20\n",
            "118/118 [==============================] - 5s 44ms/step - loss: 4.1428e-05 - accuracy: 1.0000 - val_loss: 0.9344 - val_accuracy: 0.8278\n",
            "Epoch 12/20\n",
            "118/118 [==============================] - 5s 45ms/step - loss: 3.6628e-05 - accuracy: 1.0000 - val_loss: 0.9139 - val_accuracy: 0.8278\n",
            "Epoch 13/20\n",
            "118/118 [==============================] - 5s 46ms/step - loss: 3.2408e-05 - accuracy: 1.0000 - val_loss: 0.9152 - val_accuracy: 0.8306\n",
            "Epoch 14/20\n",
            "118/118 [==============================] - 5s 43ms/step - loss: 2.8460e-05 - accuracy: 1.0000 - val_loss: 0.9432 - val_accuracy: 0.8278\n",
            "Epoch 15/20\n",
            "118/118 [==============================] - 5s 45ms/step - loss: 2.5346e-05 - accuracy: 1.0000 - val_loss: 0.9609 - val_accuracy: 0.8278\n",
            "Epoch 16/20\n",
            "118/118 [==============================] - 5s 44ms/step - loss: 2.2726e-05 - accuracy: 1.0000 - val_loss: 0.8866 - val_accuracy: 0.8361\n",
            "Epoch 17/20\n",
            "118/118 [==============================] - 6s 48ms/step - loss: 2.1003e-05 - accuracy: 1.0000 - val_loss: 0.9000 - val_accuracy: 0.8361\n",
            "Epoch 18/20\n",
            "118/118 [==============================] - 5s 45ms/step - loss: 1.8547e-05 - accuracy: 1.0000 - val_loss: 0.9248 - val_accuracy: 0.8361\n",
            "Epoch 19/20\n",
            "118/118 [==============================] - 5s 45ms/step - loss: 1.6920e-05 - accuracy: 1.0000 - val_loss: 0.9307 - val_accuracy: 0.8361\n",
            "Epoch 20/20\n",
            "118/118 [==============================] - 5s 46ms/step - loss: 1.5306e-05 - accuracy: 1.0000 - val_loss: 0.9194 - val_accuracy: 0.8389\n",
            "6/6 [==============================] - 0s 20ms/step - loss: 1.4190 - accuracy: 0.8500\n",
            "Test Accuracy: 0.8500000238418579\n"
          ]
        }
      ]
    },
    {
      "cell_type": "code",
      "source": [
        "# Perform text recognition using OCR\n",
        "def perform_ocr(image_path):\n",
        "    reader = easyocr.Reader(['en'])\n",
        "    result = reader.readtext(image_path)\n",
        "    return result"
      ],
      "metadata": {
        "id": "vftdqofFEHKL"
      },
      "execution_count": null,
      "outputs": []
    },
    {
      "cell_type": "code",
      "source": [
        "# Perform text recognition using OCR with pytesseract\n",
        "def perform_ocr_pytesseract(image_path):\n",
        "    img = Image.open(image_path)\n",
        "    text = pytesseract.image_to_string(img, lang='eng')\n",
        "    return text"
      ],
      "metadata": {
        "id": "ho7bbhZjx1U5"
      },
      "execution_count": null,
      "outputs": []
    },
    {
      "cell_type": "code",
      "source": [
        "# Integrate everything\n",
        "def integrate_ocr_with_model(image_path):\n",
        "    # Predict class using the CNN model\n",
        "    image = preprocess_images(image_path)\n",
        "    prediction = np.argmax(model.predict(np.array([image])))\n",
        "\n",
        "    # Perform OCR on the image using easyocr\n",
        "    ocr_result_easyocr = perform_ocr(image_path)\n",
        "\n",
        "    # Perform OCR on the image using pytesseract\n",
        "    ocr_result_pytesseract = perform_ocr_pytesseract(image_path)\n",
        "\n",
        "    return label_encoder.classes_[prediction], ocr_result_easyocr, ocr_result_pytesseract"
      ],
      "metadata": {
        "id": "NZS-fpDmEE67"
      },
      "execution_count": null,
      "outputs": []
    },
    {
      "cell_type": "code",
      "source": [
        "def select_random_image(directory):\n",
        "    all_files = []\n",
        "    for root, dirs, files in os.walk(directory):\n",
        "        for file in files:\n",
        "            if file.endswith('.jpg') or file.endswith('.png'):\n",
        "                all_files.append(os.path.join(root, file))\n",
        "    random_image = random.choice(all_files)\n",
        "    return random_image"
      ],
      "metadata": {
        "id": "O6xPq6rhsHJT"
      },
      "execution_count": null,
      "outputs": []
    },
    {
      "cell_type": "code",
      "source": [
        "# Select a random image from the test_path directory\n",
        "random_image_path = select_random_image(test_path)\n",
        "\n",
        "# Perform the OCR and classification\n",
        "predicted_class, ocr_text_easyocr, ocr_text_pytesseract = integrate_ocr_with_model(random_image_path)\n",
        "\n",
        "# Print the results\n",
        "print(f\"Input Image: {random_image_path}\")\n",
        "print(f\"Predicted Class: {predicted_class}\")\n",
        "print(\"OCR Result using EasyOCR:\")\n",
        "for detection in ocr_text_easyocr:\n",
        "    print(f\"Text: {detection[1]}, Confidence: {detection[2]}\")\n",
        "\n",
        "# Display the image\n",
        "img = Image.open(random_image_path)\n",
        "plt.imshow(img)\n",
        "plt.axis('off')\n",
        "plt.show()"
      ],
      "metadata": {
        "colab": {
          "base_uri": "https://localhost:8080/",
          "height": 1000
        },
        "id": "5wRon5W3t56i",
        "outputId": "72ffb18e-fa78-4e8d-f591-f3f6a9cc79de"
      },
      "execution_count": null,
      "outputs": [
        {
          "output_type": "stream",
          "name": "stdout",
          "text": [
            "1/1 [==============================] - 0s 20ms/step\n",
            "Input Image: /content/Receipt-or-Invoice-2/test/receipt/geek79_jpg.rf.bfc303d8113d0ee8fb04e27a81d46b24.jpg\n",
            "Predicted Class: receipt\n",
            "OCR Result using EasyOCR:\n",
            "Text: BILL TO:, Confidence: 0.9749125467613012\n",
            "Text: Tax Invoice, Confidence: 0.723760726352688\n",
            "Text: Trendy Outfits, Confidence: 0.8780413631914835\n",
            "Text: Original For Recipient, Confidence: 0.7557584889733058\n",
            "Text: Roorkee, Uttarakhand, 247667, Confidence: 0.919670229769034\n",
            "Text: Place of Supply, Confidence: 0.6820999751916839\n",
            "Text: 05 Uttarakhand, Confidence: 0.8654313735067362\n",
            "Text: Purchase Order Number, Confidence: 0.9690053727420858\n",
            "Text: Invoice Number, Confidence: 0.7368234903001655\n",
            "Text: 571863457745, Confidence: 0.682205203126528\n",
            "Text: dnrha23126217, Confidence: 0.7260450845143035\n",
            "Text: SHIP TO:, Confidence: 0.6788696149139487\n",
            "Text: Invoice Date, Confidence: 0.8885812618535334\n",
            "Text: Order Date, Confidence: 0.742366880564516\n",
            "Text: 03-06-2022 12.54.00, Confidence: 0.8762908891720039\n",
            "Text: 03-06-2022 11:07:53, Confidence: 0.6533077478461593\n",
            "Text: Divya mishra, Confidence: 0.9999564671678417\n",
            "Text: Gonda, Confidence: 0.9999905099270896\n",
            "Text: Near chungi naka mewatiyan, Gonda,, Confidence: 0.7345842760180574\n",
            "Text: Uttar Pradesh, 271001, Confidence: 0.7273162287822693\n",
            "Text: SN:, Confidence: 0.5287497611628911\n",
            "Text: Description, Confidence: 0.7185037546489164\n",
            "Text: HSN, Confidence: 0.9994573993626332\n",
            "Text: Unit Price, Confidence: 0.9548911086648794\n",
            "Text: Qty_, Confidence: 0.5170243978500366\n",
            "Text: Discount, Confidence: 0.9999902219113438\n",
            "Text: Product, Confidence: 0.8989025571972216\n",
            "Text: Taxes, Confidence: 0.9999796347857942\n",
            "Text: Total, Confidence: 0.9999669464862231\n",
            "Text: Value, Confidence: 0.7743352332367862\n",
            "Text: BEST QUALITY KURTA SET, Confidence: 0.8397909436237462\n",
            "Text: 621142, Confidence: 0.777309336618107\n",
            "Text: Rs.523.81, Confidence: 0.9653641165771263\n",
            "Text: Rs.0.00, Confidence: 0.6096487002941942\n",
            "Text: Rs.523.81, Confidence: 0.671783066634137\n",
            "Text: IGST @5.0%  Rs.26.19, Confidence: 0.9088658108554152\n",
            "Text: Rs.550.00, Confidence: 0.9889040372767735\n",
            "Text: Total, Confidence: 0.9998215094934771\n",
            "Text: Rs.26.19, Confidence: 0.9986436283184046\n",
            "Text: Rs.550, Confidence: 0.9993321901251172\n",
            "Text: Terms & Conditions:, Confidence: 0.8727086245562534\n",
            "Text: Sold by: VP Fashions Surat, Gujarat; 395002 24AFIPM6338J127, Confidence: 0.5112818011098207\n",
            "Text: Tax is not payable on reverse charge basis, Confidence: 0.8028358253419495\n",
            "Text: This is a computer generated invoice and does not require signature, Confidence: 0.8332091439063987\n",
            "Text: Includes discounts for your city andlor for online payments (as applicable), Confidence: 0.9793576462292533\n"
          ]
        },
        {
          "output_type": "display_data",
          "data": {
            "text/plain": [
              "<Figure size 640x480 with 1 Axes>"
            ],
            "image/png": "[encoded data removed]"
          },
          "metadata": {}
        }
      ]
    },
    {
      "cell_type": "code",
      "source": [
        "reader = easyocr.Reader(['en'])\n",
        "result = reader.readtext(random_image_path)\n",
        "\n",
        "extracted_text = \"\"\n",
        "for detection in result:\n",
        "    extracted_text += detection[1] + \" \"\n",
        "\n",
        "print(extracted_text)"
      ],
      "metadata": {
        "colab": {
          "base_uri": "https://localhost:8080/"
        },
        "id": "M6fE785rJ7ST",
        "outputId": "5f55611d-8a67-4e0a-d750-30847f33beca"
      },
      "execution_count": null,
      "outputs": [
        {
          "output_type": "stream",
          "name": "stdout",
          "text": [
            "BILL TO: Tax Invoice Trendy Outfits Original For Recipient Roorkee, Uttarakhand, 247667 Place of Supply 05 Uttarakhand Purchase Order Number Invoice Number 571863457745 dnrha23126217 SHIP TO: Invoice Date Order Date 03-06-2022 12.54.00 03-06-2022 11:07:53 Divya mishra Gonda Near chungi naka mewatiyan, Gonda, Uttar Pradesh, 271001 SN: Description HSN Unit Price Qty_ Discount Product Taxes Total Value BEST QUALITY KURTA SET 621142 Rs.523.81 Rs.0.00 Rs.523.81 IGST @5.0%  Rs.26.19 Rs.550.00 Total Rs.26.19 Rs.550 Terms & Conditions: Sold by: VP Fashions Surat, Gujarat; 395002 24AFIPM6338J127 Tax is not payable on reverse charge basis This is a computer generated invoice and does not require signature Includes discounts for your city andlor for online payments (as applicable) \n"
          ]
        }
      ]
    },
    {
      "cell_type": "code",
      "source": [
        "def find_amounts(text):\n",
        "    amounts = re.findall(r'\\d+\\.\\d{2}\\b', text)\n",
        "    floats = [float(amount) for amount in amounts]\n",
        "    unique = list(dict.fromkeys(floats))\n",
        "    return unique"
      ],
      "metadata": {
        "id": "JgUzeWXjKRTI"
      },
      "execution_count": null,
      "outputs": []
    },
    {
      "cell_type": "code",
      "source": [
        "amounts = find_amounts(extracted_text)\n",
        "amounts"
      ],
      "metadata": {
        "colab": {
          "base_uri": "https://localhost:8080/"
        },
        "id": "enf6EEtiKcCX",
        "outputId": "9fa987af-0407-4ac4-c17a-93ef3a91ec49"
      },
      "execution_count": null,
      "outputs": [
        {
          "output_type": "execute_result",
          "data": {
            "text/plain": [
              "[12.54, 523.81, 0.0, 26.19, 550.0]"
            ]
          },
          "metadata": {},
          "execution_count": 276
        }
      ]
    },
    {
      "cell_type": "code",
      "source": [
        "print(f\"Total: {max(amounts)}\")"
      ],
      "metadata": {
        "colab": {
          "base_uri": "https://localhost:8080/"
        },
        "id": "plArugTzMC1W",
        "outputId": "d7c6ff1b-c75d-4897-b7cb-a8ad61eea4b2"
      },
      "execution_count": null,
      "outputs": [
        {
          "output_type": "stream",
          "name": "stdout",
          "text": [
            "Total: 550.0\n"
          ]
        }
      ]
    },
    {
      "cell_type": "code",
      "source": [],
      "metadata": {
        "id": "GDuWKXoK8wY6"
      },
      "execution_count": null,
      "outputs": []
    }
  ]
}
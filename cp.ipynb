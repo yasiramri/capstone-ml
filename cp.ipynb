{
  "cells": [
    {
      "cell_type": "code",
      "execution_count": 1,
      "metadata": {
        "jupyter": {
          "is_executing": true
        },
        "colab": {
          "base_uri": "https://localhost:8080/"
        },
        "id": "J936pMgTqRFv",
        "outputId": "31ec19fd-5b29-4c7c-e03b-586c429399ba"
      },
      "outputs": [
        {
          "output_type": "stream",
          "name": "stdout",
          "text": [
            "Requirement already satisfied: roboflow in /usr/local/lib/python3.10/dist-packages (1.1.31)\n",
            "Requirement already satisfied: certifi==2023.7.22 in /usr/local/lib/python3.10/dist-packages (from roboflow) (2023.7.22)\n",
            "Requirement already satisfied: chardet==4.0.0 in /usr/local/lib/python3.10/dist-packages (from roboflow) (4.0.0)\n",
            "Requirement already satisfied: cycler==0.10.0 in /usr/local/lib/python3.10/dist-packages (from roboflow) (0.10.0)\n",
            "Requirement already satisfied: idna==2.10 in /usr/local/lib/python3.10/dist-packages (from roboflow) (2.10)\n",
            "Requirement already satisfied: kiwisolver>=1.3.1 in /usr/local/lib/python3.10/dist-packages (from roboflow) (1.4.5)\n",
            "Requirement already satisfied: matplotlib in /usr/local/lib/python3.10/dist-packages (from roboflow) (3.7.1)\n",
            "Requirement already satisfied: numpy>=1.18.5 in /usr/local/lib/python3.10/dist-packages (from roboflow) (1.25.2)\n",
            "Requirement already satisfied: opencv-python-headless==4.8.0.74 in /usr/local/lib/python3.10/dist-packages (from roboflow) (4.8.0.74)\n",
            "Requirement already satisfied: Pillow>=7.1.2 in /usr/local/lib/python3.10/dist-packages (from roboflow) (9.4.0)\n",
            "Requirement already satisfied: python-dateutil in /usr/local/lib/python3.10/dist-packages (from roboflow) (2.8.2)\n",
            "Requirement already satisfied: python-dotenv in /usr/local/lib/python3.10/dist-packages (from roboflow) (1.0.1)\n",
            "Requirement already satisfied: requests in /usr/local/lib/python3.10/dist-packages (from roboflow) (2.31.0)\n",
            "Requirement already satisfied: six in /usr/local/lib/python3.10/dist-packages (from roboflow) (1.16.0)\n",
            "Requirement already satisfied: urllib3>=1.26.6 in /usr/local/lib/python3.10/dist-packages (from roboflow) (2.0.7)\n",
            "Requirement already satisfied: tqdm>=4.41.0 in /usr/local/lib/python3.10/dist-packages (from roboflow) (4.66.4)\n",
            "Requirement already satisfied: PyYAML>=5.3.1 in /usr/local/lib/python3.10/dist-packages (from roboflow) (6.0.1)\n",
            "Requirement already satisfied: requests-toolbelt in /usr/local/lib/python3.10/dist-packages (from roboflow) (1.0.0)\n",
            "Requirement already satisfied: python-magic in /usr/local/lib/python3.10/dist-packages (from roboflow) (0.4.27)\n",
            "Requirement already satisfied: contourpy>=1.0.1 in /usr/local/lib/python3.10/dist-packages (from matplotlib->roboflow) (1.2.1)\n",
            "Requirement already satisfied: fonttools>=4.22.0 in /usr/local/lib/python3.10/dist-packages (from matplotlib->roboflow) (4.53.0)\n",
            "Requirement already satisfied: packaging>=20.0 in /usr/local/lib/python3.10/dist-packages (from matplotlib->roboflow) (24.0)\n",
            "Requirement already satisfied: pyparsing>=2.3.1 in /usr/local/lib/python3.10/dist-packages (from matplotlib->roboflow) (3.1.2)\n",
            "Requirement already satisfied: charset-normalizer<4,>=2 in /usr/local/lib/python3.10/dist-packages (from requests->roboflow) (3.3.2)\n"
          ]
        }
      ],
      "source": [
        "!pip install roboflow"
      ]
    },
    {
      "cell_type": "code",
      "execution_count": 2,
      "metadata": {
        "colab": {
          "base_uri": "https://localhost:8080/"
        },
        "id": "IpsOr_CzqRFw",
        "outputId": "6cb441fd-7eb9-4a40-c79b-374e0e21b3d8"
      },
      "outputs": [
        {
          "output_type": "stream",
          "name": "stdout",
          "text": [
            "Collecting easyocr\n",
            "  Using cached easyocr-1.7.1-py3-none-any.whl (2.9 MB)\n",
            "Requirement already satisfied: torch in /usr/local/lib/python3.10/dist-packages (from easyocr) (2.3.0+cu121)\n",
            "Requirement already satisfied: torchvision>=0.5 in /usr/local/lib/python3.10/dist-packages (from easyocr) (0.18.0+cu121)\n",
            "Requirement already satisfied: opencv-python-headless in /usr/local/lib/python3.10/dist-packages (from easyocr) (4.8.0.74)\n",
            "Requirement already satisfied: scipy in /usr/local/lib/python3.10/dist-packages (from easyocr) (1.11.4)\n",
            "Requirement already satisfied: numpy in /usr/local/lib/python3.10/dist-packages (from easyocr) (1.25.2)\n",
            "Requirement already satisfied: Pillow in /usr/local/lib/python3.10/dist-packages (from easyocr) (9.4.0)\n",
            "Requirement already satisfied: scikit-image in /usr/local/lib/python3.10/dist-packages (from easyocr) (0.19.3)\n",
            "Collecting python-bidi (from easyocr)\n",
            "  Using cached python_bidi-0.4.2-py2.py3-none-any.whl (30 kB)\n",
            "Requirement already satisfied: PyYAML in /usr/local/lib/python3.10/dist-packages (from easyocr) (6.0.1)\n",
            "Requirement already satisfied: Shapely in /usr/local/lib/python3.10/dist-packages (from easyocr) (2.0.4)\n",
            "Collecting pyclipper (from easyocr)\n",
            "  Using cached pyclipper-1.3.0.post5-cp310-cp310-manylinux_2_12_x86_64.manylinux2010_x86_64.whl (908 kB)\n",
            "Collecting ninja (from easyocr)\n",
            "  Downloading ninja-1.11.1.1-py2.py3-none-manylinux1_x86_64.manylinux_2_5_x86_64.whl (307 kB)\n",
            "\u001b[2K     \u001b[90m━━━━━━━━━━━━━━━━━━━━━━━━━━━━━━━━━━━━━━━━\u001b[0m \u001b[32m307.2/307.2 kB\u001b[0m \u001b[31m2.5 MB/s\u001b[0m eta \u001b[36m0:00:00\u001b[0m\n",
            "\u001b[?25hRequirement already satisfied: filelock in /usr/local/lib/python3.10/dist-packages (from torch->easyocr) (3.14.0)\n",
            "Requirement already satisfied: typing-extensions>=4.8.0 in /usr/local/lib/python3.10/dist-packages (from torch->easyocr) (4.12.1)\n",
            "Requirement already satisfied: sympy in /usr/local/lib/python3.10/dist-packages (from torch->easyocr) (1.12.1)\n",
            "Requirement already satisfied: networkx in /usr/local/lib/python3.10/dist-packages (from torch->easyocr) (3.3)\n",
            "Requirement already satisfied: jinja2 in /usr/local/lib/python3.10/dist-packages (from torch->easyocr) (3.1.4)\n",
            "Requirement already satisfied: fsspec in /usr/local/lib/python3.10/dist-packages (from torch->easyocr) (2023.6.0)\n",
            "Collecting nvidia-cuda-nvrtc-cu12==12.1.105 (from torch->easyocr)\n",
            "  Using cached nvidia_cuda_nvrtc_cu12-12.1.105-py3-none-manylinux1_x86_64.whl (23.7 MB)\n",
            "Collecting nvidia-cuda-runtime-cu12==12.1.105 (from torch->easyocr)\n",
            "  Using cached nvidia_cuda_runtime_cu12-12.1.105-py3-none-manylinux1_x86_64.whl (823 kB)\n",
            "Collecting nvidia-cuda-cupti-cu12==12.1.105 (from torch->easyocr)\n",
            "  Using cached nvidia_cuda_cupti_cu12-12.1.105-py3-none-manylinux1_x86_64.whl (14.1 MB)\n",
            "Collecting nvidia-cudnn-cu12==8.9.2.26 (from torch->easyocr)\n",
            "  Using cached nvidia_cudnn_cu12-8.9.2.26-py3-none-manylinux1_x86_64.whl (731.7 MB)\n",
            "Collecting nvidia-cublas-cu12==12.1.3.1 (from torch->easyocr)\n",
            "  Using cached nvidia_cublas_cu12-12.1.3.1-py3-none-manylinux1_x86_64.whl (410.6 MB)\n",
            "Collecting nvidia-cufft-cu12==11.0.2.54 (from torch->easyocr)\n",
            "  Using cached nvidia_cufft_cu12-11.0.2.54-py3-none-manylinux1_x86_64.whl (121.6 MB)\n",
            "Collecting nvidia-curand-cu12==10.3.2.106 (from torch->easyocr)\n",
            "  Using cached nvidia_curand_cu12-10.3.2.106-py3-none-manylinux1_x86_64.whl (56.5 MB)\n",
            "Collecting nvidia-cusolver-cu12==11.4.5.107 (from torch->easyocr)\n",
            "  Using cached nvidia_cusolver_cu12-11.4.5.107-py3-none-manylinux1_x86_64.whl (124.2 MB)\n",
            "Collecting nvidia-cusparse-cu12==12.1.0.106 (from torch->easyocr)\n",
            "  Using cached nvidia_cusparse_cu12-12.1.0.106-py3-none-manylinux1_x86_64.whl (196.0 MB)\n",
            "Collecting nvidia-nccl-cu12==2.20.5 (from torch->easyocr)\n",
            "  Using cached nvidia_nccl_cu12-2.20.5-py3-none-manylinux2014_x86_64.whl (176.2 MB)\n",
            "Collecting nvidia-nvtx-cu12==12.1.105 (from torch->easyocr)\n",
            "  Using cached nvidia_nvtx_cu12-12.1.105-py3-none-manylinux1_x86_64.whl (99 kB)\n",
            "Requirement already satisfied: triton==2.3.0 in /usr/local/lib/python3.10/dist-packages (from torch->easyocr) (2.3.0)\n",
            "Collecting nvidia-nvjitlink-cu12 (from nvidia-cusolver-cu12==11.4.5.107->torch->easyocr)\n",
            "  Downloading nvidia_nvjitlink_cu12-12.5.40-py3-none-manylinux2014_x86_64.whl (21.3 MB)\n",
            "\u001b[2K     \u001b[90m━━━━━━━━━━━━━━━━━━━━━━━━━━━━━━━━━━━━━━━━\u001b[0m \u001b[32m21.3/21.3 MB\u001b[0m \u001b[31m58.4 MB/s\u001b[0m eta \u001b[36m0:00:00\u001b[0m\n",
            "\u001b[?25hRequirement already satisfied: six in /usr/local/lib/python3.10/dist-packages (from python-bidi->easyocr) (1.16.0)\n",
            "Requirement already satisfied: imageio>=2.4.1 in /usr/local/lib/python3.10/dist-packages (from scikit-image->easyocr) (2.31.6)\n",
            "Requirement already satisfied: tifffile>=2019.7.26 in /usr/local/lib/python3.10/dist-packages (from scikit-image->easyocr) (2024.5.22)\n",
            "Requirement already satisfied: PyWavelets>=1.1.1 in /usr/local/lib/python3.10/dist-packages (from scikit-image->easyocr) (1.6.0)\n",
            "Requirement already satisfied: packaging>=20.0 in /usr/local/lib/python3.10/dist-packages (from scikit-image->easyocr) (24.0)\n",
            "Requirement already satisfied: MarkupSafe>=2.0 in /usr/local/lib/python3.10/dist-packages (from jinja2->torch->easyocr) (2.1.5)\n",
            "Requirement already satisfied: mpmath<1.4.0,>=1.1.0 in /usr/local/lib/python3.10/dist-packages (from sympy->torch->easyocr) (1.3.0)\n",
            "Installing collected packages: pyclipper, ninja, python-bidi, nvidia-nvtx-cu12, nvidia-nvjitlink-cu12, nvidia-nccl-cu12, nvidia-curand-cu12, nvidia-cufft-cu12, nvidia-cuda-runtime-cu12, nvidia-cuda-nvrtc-cu12, nvidia-cuda-cupti-cu12, nvidia-cublas-cu12, nvidia-cusparse-cu12, nvidia-cudnn-cu12, nvidia-cusolver-cu12, easyocr\n",
            "Successfully installed easyocr-1.7.1 ninja-1.11.1.1 nvidia-cublas-cu12-12.1.3.1 nvidia-cuda-cupti-cu12-12.1.105 nvidia-cuda-nvrtc-cu12-12.1.105 nvidia-cuda-runtime-cu12-12.1.105 nvidia-cudnn-cu12-8.9.2.26 nvidia-cufft-cu12-11.0.2.54 nvidia-curand-cu12-10.3.2.106 nvidia-cusolver-cu12-11.4.5.107 nvidia-cusparse-cu12-12.1.0.106 nvidia-nccl-cu12-2.20.5 nvidia-nvjitlink-cu12-12.5.40 nvidia-nvtx-cu12-12.1.105 pyclipper-1.3.0.post5 python-bidi-0.4.2\n"
          ]
        }
      ],
      "source": [
        "!pip install easyocr"
      ]
    },
    {
      "cell_type": "code",
      "execution_count": 3,
      "metadata": {
        "colab": {
          "base_uri": "https://localhost:8080/"
        },
        "id": "9Xu5ODzzqRFx",
        "outputId": "31ed5182-623e-4192-846b-02922b3f7807"
      },
      "outputs": [
        {
          "output_type": "stream",
          "name": "stdout",
          "text": [
            "Requirement already satisfied: pytesseract in /usr/local/lib/python3.10/dist-packages (0.3.10)\n",
            "Requirement already satisfied: packaging>=21.3 in /usr/local/lib/python3.10/dist-packages (from pytesseract) (24.0)\n",
            "Requirement already satisfied: Pillow>=8.0.0 in /usr/local/lib/python3.10/dist-packages (from pytesseract) (9.4.0)\n"
          ]
        }
      ],
      "source": [
        "!pip install pytesseract"
      ]
    },
    {
      "cell_type": "code",
      "execution_count": 4,
      "metadata": {
        "id": "tipmQmB8qRFx"
      },
      "outputs": [],
      "source": [
        "import easyocr\n",
        "import cv2\n",
        "import pytesseract\n",
        "import random\n",
        "import tensorflow as tf\n",
        "import os\n",
        "import numpy as np\n",
        "import matplotlib.pyplot as plt\n",
        "import matplotlib.image as mpimg\n",
        "import re\n",
        "from sklearn.preprocessing import LabelEncoder\n",
        "from sklearn.model_selection import train_test_split\n",
        "from tensorflow.keras.preprocessing.image import img_to_array, load_img\n",
        "from tensorflow.keras.utils import to_categorical\n",
        "from tensorflow.keras.models import Sequential\n",
        "from tensorflow.keras.layers import Conv2D, MaxPooling2D, Flatten, Dense\n",
        "from tensorflow.keras.optimizers import Adam\n",
        "from sklearn.metrics import classification_report\n",
        "from pytesseract import Output\n",
        "from PIL import Image"
      ]
    },
    {
      "cell_type": "code",
      "source": [
        "!apt-get install tesseract-ocr"
      ],
      "metadata": {
        "colab": {
          "base_uri": "https://localhost:8080/"
        },
        "id": "rZ5Wsy0Iqc5n",
        "outputId": "5940e640-8a5b-44d1-db48-b28ce1b8af22"
      },
      "execution_count": 5,
      "outputs": [
        {
          "output_type": "stream",
          "name": "stdout",
          "text": [
            "Reading package lists... Done\n",
            "Building dependency tree... Done\n",
            "Reading state information... Done\n",
            "The following additional packages will be installed:\n",
            "  tesseract-ocr-eng tesseract-ocr-osd\n",
            "The following NEW packages will be installed:\n",
            "  tesseract-ocr tesseract-ocr-eng tesseract-ocr-osd\n",
            "0 upgraded, 3 newly installed, 0 to remove and 45 not upgraded.\n",
            "Need to get 4,816 kB of archives.\n",
            "After this operation, 15.6 MB of additional disk space will be used.\n",
            "Get:1 http://archive.ubuntu.com/ubuntu jammy/universe amd64 tesseract-ocr-eng all 1:4.00~git30-7274cfa-1.1 [1,591 kB]\n",
            "Get:2 http://archive.ubuntu.com/ubuntu jammy/universe amd64 tesseract-ocr-osd all 1:4.00~git30-7274cfa-1.1 [2,990 kB]\n",
            "Get:3 http://archive.ubuntu.com/ubuntu jammy/universe amd64 tesseract-ocr amd64 4.1.1-2.1build1 [236 kB]\n",
            "Fetched 4,816 kB in 1s (9,479 kB/s)\n",
            "Selecting previously unselected package tesseract-ocr-eng.\n",
            "(Reading database ... 121913 files and directories currently installed.)\n",
            "Preparing to unpack .../tesseract-ocr-eng_1%3a4.00~git30-7274cfa-1.1_all.deb ...\n",
            "Unpacking tesseract-ocr-eng (1:4.00~git30-7274cfa-1.1) ...\n",
            "Selecting previously unselected package tesseract-ocr-osd.\n",
            "Preparing to unpack .../tesseract-ocr-osd_1%3a4.00~git30-7274cfa-1.1_all.deb ...\n",
            "Unpacking tesseract-ocr-osd (1:4.00~git30-7274cfa-1.1) ...\n",
            "Selecting previously unselected package tesseract-ocr.\n",
            "Preparing to unpack .../tesseract-ocr_4.1.1-2.1build1_amd64.deb ...\n",
            "Unpacking tesseract-ocr (4.1.1-2.1build1) ...\n",
            "Setting up tesseract-ocr-eng (1:4.00~git30-7274cfa-1.1) ...\n",
            "Setting up tesseract-ocr-osd (1:4.00~git30-7274cfa-1.1) ...\n",
            "Setting up tesseract-ocr (4.1.1-2.1build1) ...\n",
            "Processing triggers for man-db (2.10.2-1) ...\n"
          ]
        }
      ]
    },
    {
      "cell_type": "code",
      "source": [
        "!tesseract --version"
      ],
      "metadata": {
        "colab": {
          "base_uri": "https://localhost:8080/"
        },
        "id": "KC2fJDchwciX",
        "outputId": "ca7a5b20-dec3-4e88-efe3-96a1d5b0f175"
      },
      "execution_count": 6,
      "outputs": [
        {
          "output_type": "stream",
          "name": "stdout",
          "text": [
            "tesseract 4.1.1\n",
            " leptonica-1.82.0\n",
            "  libgif 5.1.9 : libjpeg 8d (libjpeg-turbo 2.1.1) : libpng 1.6.37 : libtiff 4.3.0 : zlib 1.2.11 : libwebp 1.2.2 : libopenjp2 2.4.0\n",
            " Found AVX2\n",
            " Found AVX\n",
            " Found FMA\n",
            " Found SSE\n",
            " Found libarchive 3.6.0 zlib/1.2.11 liblzma/5.2.5 bz2lib/1.0.8 liblz4/1.9.3 libzstd/1.4.8\n"
          ]
        }
      ]
    },
    {
      "cell_type": "code",
      "source": [
        "import os\n",
        "os.environ['PATH'] += \":/usr/bin/tesseract\""
      ],
      "metadata": {
        "id": "upqCJ1WRwc2_"
      },
      "execution_count": 7,
      "outputs": []
    },
    {
      "cell_type": "code",
      "execution_count": 8,
      "metadata": {
        "colab": {
          "base_uri": "https://localhost:8080/"
        },
        "id": "edRvIfCsqRFy",
        "outputId": "e57af630-7140-4169-d0b6-cd8c3d55bb7d"
      },
      "outputs": [
        {
          "output_type": "stream",
          "name": "stdout",
          "text": [
            "loading Roboflow workspace...\n",
            "loading Roboflow project...\n"
          ]
        },
        {
          "output_type": "stream",
          "name": "stderr",
          "text": [
            "Downloading Dataset Version Zip in Receipt-or-Invoice-2 to folder:: 100%|██████████| 194763/194763 [00:08<00:00, 22784.61it/s]"
          ]
        },
        {
          "output_type": "stream",
          "name": "stdout",
          "text": [
            "\n"
          ]
        },
        {
          "output_type": "stream",
          "name": "stderr",
          "text": [
            "\n",
            "Extracting Dataset Version Zip to Receipt-or-Invoice-2 in folder:: 100%|██████████| 4325/4325 [00:01<00:00, 2290.81it/s]\n"
          ]
        }
      ],
      "source": [
        "from roboflow import Roboflow\n",
        "rf = Roboflow(api_key=\"f77FoHccQ1RtNOK1tFRo\")\n",
        "project = rf.workspace(\"jakob-awn1e\").project(\"receipt-or-invoice\")\n",
        "version = project.version(2)\n",
        "dataset = version.download(\"folder\")"
      ]
    },
    {
      "cell_type": "code",
      "execution_count": 9,
      "metadata": {
        "id": "dGkvMJUEqRFy"
      },
      "outputs": [],
      "source": [
        "# Preprocessing\n",
        "def preprocess_images(image_path):\n",
        "    image = load_img(image_path, target_size=(224, 224))\n",
        "    image = img_to_array(image) / 255.0\n",
        "    return image"
      ]
    },
    {
      "cell_type": "code",
      "execution_count": 10,
      "metadata": {
        "id": "DJrGjQKFqRFy"
      },
      "outputs": [],
      "source": [
        "def label_data(data_path):\n",
        "    images = []\n",
        "    labels = []\n",
        "    for root, dirs, files in os.walk(data_path):\n",
        "        for file in files:\n",
        "            if file.endswith('.jpg') or file.endswith('.png'):  # Ensure processing only image files\n",
        "                file_path = os.path.join(root, file)\n",
        "                label = os.path.basename(os.path.dirname(file_path))  # Correct label extraction\n",
        "                image = preprocess_images(file_path)\n",
        "                images.append(image)\n",
        "                labels.append(label)\n",
        "    return np.array(images), np.array(labels)"
      ]
    },
    {
      "cell_type": "code",
      "execution_count": 11,
      "metadata": {
        "id": "nukNfGT6qRFz"
      },
      "outputs": [],
      "source": [
        "# Load dataset\n",
        "train_path = \"/content/Receipt-or-Invoice-2/train\"\n",
        "val_path = \"/content/Receipt-or-Invoice-2/valid\"\n",
        "test_path = \"/content/Receipt-or-Invoice-2/test\""
      ]
    },
    {
      "cell_type": "code",
      "execution_count": 12,
      "metadata": {
        "id": "WorK92AqqRFz"
      },
      "outputs": [],
      "source": [
        "X_train, y_train = label_data(train_path)\n",
        "X_val, y_val = label_data(val_path)\n",
        "X_test, y_test = label_data(test_path)"
      ]
    },
    {
      "cell_type": "code",
      "execution_count": 13,
      "metadata": {
        "id": "b-7rYsguqRFz"
      },
      "outputs": [],
      "source": [
        "import numpy as np\n",
        "# Combining labels from all three datasets\n",
        "all_labels = np.concatenate((y_train, y_val, y_test))\n",
        "\n",
        "# Encode labels\n",
        "label_encoder = LabelEncoder()\n",
        "label_encoder.fit(all_labels)\n",
        "\n",
        "# Re-encode labels for each dataset\n",
        "y_train = label_encoder.transform(y_train)\n",
        "y_val = label_encoder.transform(y_val)\n",
        "y_test = label_encoder.transform(y_test)"
      ]
    },
    {
      "cell_type": "code",
      "execution_count": 14,
      "metadata": {
        "id": "Cv4QzjWQqRFz"
      },
      "outputs": [],
      "source": [
        "# Build CNN model\n",
        "model = Sequential([\n",
        "    Conv2D(32, (3, 3), activation='relu', input_shape=(224, 224, 3)),\n",
        "    MaxPooling2D((2, 2)),\n",
        "    Conv2D(64, (3, 3), activation='relu'),\n",
        "    MaxPooling2D((2, 2)),\n",
        "    Flatten(),\n",
        "    Dense(64, activation='relu'),\n",
        "    Dense(len(label_encoder.classes_), activation='softmax')\n",
        "])\n",
        "\n",
        "# Compile the model\n",
        "model.compile(optimizer=Adam(), loss='sparse_categorical_crossentropy', metrics=['accuracy'])"
      ]
    },
    {
      "cell_type": "code",
      "execution_count": 15,
      "metadata": {
        "colab": {
          "base_uri": "https://localhost:8080/"
        },
        "id": "uNjkWE-0qRFz",
        "outputId": "5db24d39-a6f9-44ff-d7b5-4b2a00bdc400"
      },
      "outputs": [
        {
          "output_type": "stream",
          "name": "stdout",
          "text": [
            "Epoch 1/20\n",
            "118/118 [==============================] - 13s 64ms/step - loss: 0.7003 - accuracy: 0.8227 - val_loss: 0.8906 - val_accuracy: 0.5750\n",
            "Epoch 2/20\n",
            "118/118 [==============================] - 5s 42ms/step - loss: 0.2106 - accuracy: 0.9202 - val_loss: 0.6477 - val_accuracy: 0.6611\n",
            "Epoch 3/20\n",
            "118/118 [==============================] - 5s 43ms/step - loss: 0.1278 - accuracy: 0.9542 - val_loss: 0.6721 - val_accuracy: 0.6639\n",
            "Epoch 4/20\n",
            "118/118 [==============================] - 5s 44ms/step - loss: 0.1193 - accuracy: 0.9555 - val_loss: 0.4470 - val_accuracy: 0.7861\n",
            "Epoch 5/20\n",
            "118/118 [==============================] - 5s 42ms/step - loss: 0.0821 - accuracy: 0.9663 - val_loss: 0.4524 - val_accuracy: 0.7972\n",
            "Epoch 6/20\n",
            "118/118 [==============================] - 5s 44ms/step - loss: 0.0502 - accuracy: 0.9828 - val_loss: 0.5998 - val_accuracy: 0.8250\n",
            "Epoch 7/20\n",
            "118/118 [==============================] - 5s 43ms/step - loss: 0.0317 - accuracy: 0.9886 - val_loss: 0.4213 - val_accuracy: 0.8250\n",
            "Epoch 8/20\n",
            "118/118 [==============================] - 5s 43ms/step - loss: 0.0147 - accuracy: 0.9958 - val_loss: 0.6212 - val_accuracy: 0.7972\n",
            "Epoch 9/20\n",
            "118/118 [==============================] - 5s 45ms/step - loss: 0.0087 - accuracy: 0.9984 - val_loss: 0.7187 - val_accuracy: 0.7722\n",
            "Epoch 10/20\n",
            "118/118 [==============================] - 5s 43ms/step - loss: 0.0135 - accuracy: 0.9955 - val_loss: 0.7201 - val_accuracy: 0.8028\n",
            "Epoch 11/20\n",
            "118/118 [==============================] - 6s 50ms/step - loss: 0.0228 - accuracy: 0.9923 - val_loss: 0.4580 - val_accuracy: 0.8444\n",
            "Epoch 12/20\n",
            "118/118 [==============================] - 5s 44ms/step - loss: 0.0141 - accuracy: 0.9947 - val_loss: 0.5813 - val_accuracy: 0.8389\n",
            "Epoch 13/20\n",
            "118/118 [==============================] - 5s 43ms/step - loss: 0.0090 - accuracy: 0.9976 - val_loss: 0.4131 - val_accuracy: 0.8833\n",
            "Epoch 14/20\n",
            "118/118 [==============================] - 5s 45ms/step - loss: 0.0229 - accuracy: 0.9907 - val_loss: 0.6503 - val_accuracy: 0.8417\n",
            "Epoch 15/20\n",
            "118/118 [==============================] - 5s 42ms/step - loss: 0.0031 - accuracy: 0.9987 - val_loss: 0.8255 - val_accuracy: 0.8333\n",
            "Epoch 16/20\n",
            "118/118 [==============================] - 5s 45ms/step - loss: 3.9709e-04 - accuracy: 1.0000 - val_loss: 0.8819 - val_accuracy: 0.8333\n",
            "Epoch 17/20\n",
            "118/118 [==============================] - 5s 43ms/step - loss: 2.5509e-04 - accuracy: 1.0000 - val_loss: 0.9672 - val_accuracy: 0.8306\n",
            "Epoch 18/20\n",
            "118/118 [==============================] - 5s 44ms/step - loss: 1.8276e-04 - accuracy: 1.0000 - val_loss: 1.0036 - val_accuracy: 0.8278\n",
            "Epoch 19/20\n",
            "118/118 [==============================] - 5s 44ms/step - loss: 1.3737e-04 - accuracy: 1.0000 - val_loss: 1.0071 - val_accuracy: 0.8361\n",
            "Epoch 20/20\n",
            "118/118 [==============================] - 5s 43ms/step - loss: 1.0833e-04 - accuracy: 1.0000 - val_loss: 0.9978 - val_accuracy: 0.8333\n",
            "6/6 [==============================] - 0s 84ms/step - loss: 1.2206 - accuracy: 0.8167\n",
            "Test Accuracy: 0.8166666626930237\n"
          ]
        }
      ],
      "source": [
        "# Train the model\n",
        "model.fit(X_train, y_train, validation_data=(X_val, y_val), epochs=20, batch_size=32)\n",
        "\n",
        "# Evaluate the model\n",
        "_, test_acc = model.evaluate(X_test, y_test)\n",
        "print(\"Test Accuracy:\", test_acc)"
      ]
    },
    {
      "cell_type": "code",
      "source": [
        "# Perform text recognition using OCR\n",
        "def perform_ocr(image_path):\n",
        "    reader = easyocr.Reader(['en'])\n",
        "    result = reader.readtext(image_path)\n",
        "    return result"
      ],
      "metadata": {
        "id": "1lhH1ziSvHCb"
      },
      "execution_count": 16,
      "outputs": []
    },
    {
      "cell_type": "code",
      "source": [
        "# Perform text recognition using OCR with pytesseract\n",
        "def perform_ocr_pytesseract(image_path):\n",
        "    img = Image.open(image_path)\n",
        "    text = pytesseract.image_to_string(img, lang='eng')\n",
        "    return text"
      ],
      "metadata": {
        "id": "fJ7Qp6KHugD7"
      },
      "execution_count": 17,
      "outputs": []
    },
    {
      "cell_type": "code",
      "source": [
        "# Integrate everything\n",
        "def integrate_ocr_with_model(image_path):\n",
        "    # Predict class using the CNN model\n",
        "    image = preprocess_images(image_path)\n",
        "    prediction = np.argmax(model.predict(np.array([image])))\n",
        "\n",
        "    # Perform OCR on the image using easyocr\n",
        "    ocr_result_easyocr = perform_ocr(image_path)\n",
        "\n",
        "    # Perform OCR on the image using pytesseract\n",
        "    ocr_result_pytesseract = perform_ocr_pytesseract(image_path)\n",
        "\n",
        "    return label_encoder.classes_[prediction], ocr_result_easyocr, ocr_result_pytesseract"
      ],
      "metadata": {
        "id": "jsGdLXVluhRB"
      },
      "execution_count": 18,
      "outputs": []
    },
    {
      "cell_type": "code",
      "source": [
        "def select_random_image(directory):\n",
        "    all_files = []\n",
        "    for root, dirs, files in os.walk(directory):\n",
        "        for file in files:\n",
        "            if file.endswith('.jpg') or file.endswith('.png'):\n",
        "                all_files.append(os.path.join(root, file))\n",
        "    random_image = random.choice(all_files)\n",
        "    return random_image"
      ],
      "metadata": {
        "id": "MqNi5pUBumtD"
      },
      "execution_count": 19,
      "outputs": []
    },
    {
      "cell_type": "code",
      "source": [
        "# Select a random image from the test_path directory\n",
        "random_image_path = select_random_image(test_path)\n",
        "\n",
        "# Perform the OCR and classification\n",
        "predicted_class, ocr_text_easyocr, ocr_text_pytesseract = integrate_ocr_with_model(random_image_path)\n",
        "\n",
        "# Print the results\n",
        "print(f\"Input Image: {random_image_path}\")\n",
        "print(f\"Predicted Class: {predicted_class}\")\n",
        "print(\"OCR Result using EasyOCR:\")\n",
        "for detection in ocr_text_easyocr:\n",
        "    print(f\"Text: {detection[1]}, Confidence: {detection[2]}\")\n",
        "\n",
        "# Display the image\n",
        "img = Image.open(random_image_path)\n",
        "plt.imshow(img)\n",
        "plt.axis('off')\n",
        "plt.show()"
      ],
      "metadata": {
        "colab": {
          "base_uri": "https://localhost:8080/",
          "height": 1000
        },
        "id": "yjY0jBhqutPr",
        "outputId": "2c401b78-88f5-4604-f04b-a9a1032b9938"
      },
      "execution_count": 20,
      "outputs": [
        {
          "output_type": "stream",
          "name": "stdout",
          "text": [
            "1/1 [==============================] - 0s 246ms/step\n"
          ]
        },
        {
          "output_type": "stream",
          "name": "stderr",
          "text": [
            "WARNING:easyocr.easyocr:Downloading detection model, please wait. This may take several minutes depending upon your network connection.\n"
          ]
        },
        {
          "output_type": "stream",
          "name": "stdout",
          "text": [
            "Progress: |██████████████████████████████████████████████████| 100.0% Complete"
          ]
        },
        {
          "output_type": "stream",
          "name": "stderr",
          "text": [
            "WARNING:easyocr.easyocr:Downloading recognition model, please wait. This may take several minutes depending upon your network connection.\n"
          ]
        },
        {
          "output_type": "stream",
          "name": "stdout",
          "text": [
            "Progress: |██████████████████████████████████████████████████| 100.0% Complete"
          ]
        },
        {
          "output_type": "stream",
          "name": "stderr",
          "text": [
            "Plan failed with a cudnnException: CUDNN_BACKEND_EXECUTION_PLAN_DESCRIPTOR: cudnnFinalize Descriptor Failed cudnn_status: CUDNN_STATUS_NOT_SUPPORTED (Triggered internally at ../aten/src/ATen/native/cudnn/Conv_v8.cpp:919.)\n"
          ]
        },
        {
          "output_type": "stream",
          "name": "stdout",
          "text": [
            "Input Image: /content/Receipt-or-Invoice-2/test/receipt/geek67_jpg.rf.8f282e4a0d5bc804b40cc3a5bb78e5de.jpg\n",
            "Predicted Class: receipt\n",
            "OCR Result using EasyOCR:\n",
            "Text: Zomato Food Order: Summary and Receipt, Confidence: 0.8379171550573948\n",
            "Text: Order ID:, Confidence: 0.9955749044352342\n",
            "Text: 4075011305, Confidence: 0.7118111680462335\n",
            "Text: Order Time:, Confidence: 0.9964933457730476\n",
            "Text: 25 May 2022, 02.13 AM, Confidence: 0.5563412417445595\n",
            "Text: Customer Name:, Confidence: 0.9940604310802187\n",
            "Text: Kanna Srivastav, Confidence: 0.999794587263029\n",
            "Text: Customer Address:, Confidence: 0.9992426009103925\n",
            "Text: 3rd floor, Confidence: 0.9769695368003422\n",
            "Text: Restaurant Name:, Confidence: 0.8918277995025217\n",
            "Text: Makers Of Milkshakes, Confidence: 0.9992295617958765\n",
            "Text: Restaurant Address:, Confidence: 0.9999615877812892\n",
            "Text: 16-11-20/93/C, Moosarmbhag Road, AL Mataam Mandi, Sripuram, Confidence: 0.7469761793403803\n",
            "Text: Colony , Malakpet; Hyderabad, Confidence: 0.6198782375574784\n",
            "Text: Delivery partner's Name:, Confidence: 0.9922644270681966\n",
            "Text: Ponna Vamshi, Confidence: 0.7916503809780303\n",
            "Text: Item, Confidence: 0.6226733929571238\n",
            "Text: Quantity, Confidence: 0.9990673207836483\n",
            "Text: Unit Price, Confidence: 0.985173440747756\n",
            "Text: Total Price, Confidence: 0.9950330510999413\n",
            "Text: Strawberry Crunch Thick Shake, Confidence: 0.9330887622203115\n",
            "Text: {227, Confidence: 0.6245843768119812\n",
            "Text: {227, Confidence: 0.6905741691589355\n",
            "Text: Belgium Dark Chocolate Thick Shake, Confidence: 0.8252391548916632\n",
            "Text: {281, Confidence: 0.8792061566370059\n",
            "Text: {281, Confidence: 0.7485712170600891\n",
            "Text: Delivery Charge Subtotal, Confidence: 0.9817909299079388\n",
            "Text: {48, Confidence: 0.5943533090178057\n",
            "Text: Restaurant Packaging Charges, Confidence: 0.9571532824935592\n",
            "Text: {4.76, Confidence: 0.514861474711155\n",
            "Text: Taxes, Confidence: 0.999912727781939\n",
            "Text: {20.56, Confidence: 0.9844456942151237\n",
            "Text: {30, Confidence: 0.6245557497382225\n",
            "Text: Coupon, Confidence: 0.9999021782774512\n",
            "Text: (SAVEMORE), Confidence: 0.999958306295102\n",
            "Text: (101.60), Confidence: 0.9999761447658836\n",
            "Text: Total, Confidence: 0.9999385843361142\n",
            "Text: {509.72, Confidence: 0.7223660606558642\n",
            "Text: Terms & Conditions (https:llwwwzomato comlpolicieslterms-of-servicel), Confidence: 0.5579245403219762\n",
            "Text: 1.W.e.f. 1 January 2022, Confidence: 0.8701157092642611\n",
            "Text: for items ordered where Zomato is obligated to raise a tax invoice on behalf of the Restaurant; it can be, Confidence: 0.5723633185111726\n",
            "Text: downloaded from the link provided in email containing order summary., Confidence: 0.8243112162355186\n",
            "Text: For other products in the order that are not covered in Zomato, Confidence: 0.6649149258738121\n",
            "Text: issued tax invoice, Confidence: 0.8851343979715306\n",
            "Text: tax invoice, Confidence: 0.92698355415459\n",
            "Text: be provided by the Restaurant Partner directly:, Confidence: 0.7034020110566463\n",
            "Text: 2.The delivery charge and delivery surge are collected by Zomato on behalf of the person or entity undertaking delivery of this order:, Confidence: 0.653522607002553\n",
            "Text: 3.If you have any issues or queries in respect of your order, please contact the customer chat support through Zomato platform:, Confidence: 0.6284834560769036\n",
            "Text: 4.In case you need to get more information about restaurant's FSSAI status, please visit https:/lfoscos.fssai.gov.in/ and use the FBO, Confidence: 0.473768338951043\n",
            "Text: search option with the FSSAI License, Confidence: 0.6267614456757421\n",
            "Text: Registration number:, Confidence: 0.9540944052743718\n",
            "Text: 5.Please note that we do not have a customer care phone number and we never ask for any bank account details such as CVV, account, Confidence: 0.8190904174689825\n",
            "Text: number; UPI Pin etc., Confidence: 0.8233009626681675\n",
            "Text: across our other support channels. For your safety please do not share these details with anyone over any, Confidence: 0.7101711560516485\n",
            "Text: medium_, Confidence: 0.9811456360189508\n",
            "Text: Makers Of Milkshakes, Confidence: 0.998515574217137\n",
            "Text: zomato, Confidence: 0.9704681251481904\n",
            "Text: Jssai, Confidence: 0.7728349583279898\n",
            "Text: Jssai, Confidence: 0.6854259082158256\n",
            "Text: Lic . No. 23622034000554, Confidence: 0.7392161303066344\n",
            "Text: Lic. No. 10019064001810, Confidence: 0.717277001122515\n",
            "Text: Tip, Confidence: 0.9996869881198595\n",
            "Text: will, Confidence: 0.99949711561203\n"
          ]
        },
        {
          "output_type": "display_data",
          "data": {
            "text/plain": [
              "<Figure size 640x480 with 1 Axes>"
            ],
            "image/png": "[encoded data removed]"
          },
          "metadata": {}
        }
      ]
    },
    {
      "cell_type": "code",
      "source": [
        "reader = easyocr.Reader(['en'])\n",
        "result = reader.readtext(random_image_path)\n",
        "\n",
        "extracted_text = \"\"\n",
        "for detection in result:\n",
        "    extracted_text += detection[1] + \" \"\n",
        "\n",
        "print(extracted_text)"
      ],
      "metadata": {
        "colab": {
          "base_uri": "https://localhost:8080/"
        },
        "id": "L0DVz2aY0uhu",
        "outputId": "7c76b33d-0877-4ce1-cca2-a0567981c880"
      },
      "execution_count": 21,
      "outputs": [
        {
          "output_type": "stream",
          "name": "stdout",
          "text": [
            "Zomato Food Order: Summary and Receipt Order ID: 4075011305 Order Time: 25 May 2022, 02.13 AM Customer Name: Kanna Srivastav Customer Address: 3rd floor Restaurant Name: Makers Of Milkshakes Restaurant Address: 16-11-20/93/C, Moosarmbhag Road, AL Mataam Mandi, Sripuram Colony , Malakpet; Hyderabad Delivery partner's Name: Ponna Vamshi Item Quantity Unit Price Total Price Strawberry Crunch Thick Shake {227 {227 Belgium Dark Chocolate Thick Shake {281 {281 Delivery Charge Subtotal {48 Restaurant Packaging Charges {4.76 Taxes {20.56 {30 Coupon (SAVEMORE) (101.60) Total {509.72 Terms & Conditions (https:llwwwzomato comlpolicieslterms-of-servicel) 1.W.e.f. 1 January 2022 for items ordered where Zomato is obligated to raise a tax invoice on behalf of the Restaurant; it can be downloaded from the link provided in email containing order summary. For other products in the order that are not covered in Zomato issued tax invoice tax invoice be provided by the Restaurant Partner directly: 2.The delivery charge and delivery surge are collected by Zomato on behalf of the person or entity undertaking delivery of this order: 3.If you have any issues or queries in respect of your order, please contact the customer chat support through Zomato platform: 4.In case you need to get more information about restaurant's FSSAI status, please visit https:/lfoscos.fssai.gov.in/ and use the FBO search option with the FSSAI License Registration number: 5.Please note that we do not have a customer care phone number and we never ask for any bank account details such as CVV, account number; UPI Pin etc. across our other support channels. For your safety please do not share these details with anyone over any medium_ Makers Of Milkshakes zomato Jssai Jssai Lic . No. 23622034000554 Lic. No. 10019064001810 Tip will \n"
          ]
        }
      ]
    },
    {
      "cell_type": "code",
      "source": [
        "def find_amounts(text):\n",
        "    amounts = re.findall(r'\\d+\\.\\d{2}\\b', text)\n",
        "    floats = [float(amount) for amount in amounts]\n",
        "    unique = list(dict.fromkeys(floats))\n",
        "    return unique"
      ],
      "metadata": {
        "id": "jrRK83yy0xpf"
      },
      "execution_count": 22,
      "outputs": []
    },
    {
      "cell_type": "code",
      "source": [
        "amounts = find_amounts(extracted_text)\n",
        "amounts"
      ],
      "metadata": {
        "colab": {
          "base_uri": "https://localhost:8080/"
        },
        "id": "Fo_jLwDf0z3p",
        "outputId": "4e899f52-d350-4684-ed85-7f13a80104b8"
      },
      "execution_count": 23,
      "outputs": [
        {
          "output_type": "execute_result",
          "data": {
            "text/plain": [
              "[2.13, 4.76, 20.56, 101.6, 509.72]"
            ]
          },
          "metadata": {},
          "execution_count": 23
        }
      ]
    },
    {
      "cell_type": "code",
      "source": [
        "print(f\"Total: {max(amounts)}\")"
      ],
      "metadata": {
        "colab": {
          "base_uri": "https://localhost:8080/"
        },
        "id": "8dhsuhKx025_",
        "outputId": "30d8066b-9de9-46c2-ba2c-1c98f2318e77"
      },
      "execution_count": 24,
      "outputs": [
        {
          "output_type": "stream",
          "name": "stdout",
          "text": [
            "Total: 509.72\n"
          ]
        }
      ]
    },
    {
      "cell_type": "code",
      "source": [
        "converter = tf.lite.TFLiteConverter.from_keras_model(model)\n",
        "tflite_model = converter.convert()"
      ],
      "metadata": {
        "id": "WealXycH14Iv"
      },
      "execution_count": 30,
      "outputs": []
    },
    {
      "cell_type": "code",
      "source": [
        "with open('model.tflite', 'wb') as f:\n",
        "    f.write(tflite_model)"
      ],
      "metadata": {
        "id": "HOubauLp2JA3"
      },
      "execution_count": 31,
      "outputs": []
    }
  ],
  "metadata": {
    "kernelspec": {
      "display_name": "Python 3",
      "name": "python3"
    },
    "language_info": {
      "codemirror_mode": {
        "name": "ipython",
        "version": 3
      },
      "file_extension": ".py",
      "mimetype": "text/x-python",
      "name": "python",
      "nbconvert_exporter": "python",
      "pygments_lexer": "ipython3",
      "version": "3.12.1"
    },
    "colab": {
      "provenance": [],
      "gpuType": "T4"
    },
    "accelerator": "GPU"
  },
  "nbformat": 4,
  "nbformat_minor": 0
}